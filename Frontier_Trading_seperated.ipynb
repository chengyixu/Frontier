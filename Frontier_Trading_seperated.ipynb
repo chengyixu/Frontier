{
 "cells": [
  {
   "cell_type": "code",
   "execution_count": 22,
   "metadata": {},
   "outputs": [],
   "source": [
    "from polygon.rest.models import (\n",
    "    TickerSnapshot,\n",
    "    Agg,\n",
    ")\n"
   ]
  },
  {
   "cell_type": "code",
   "execution_count": 44,
   "metadata": {},
   "outputs": [],
   "source": [
    "from typing import cast, Iterator, Union\n",
    "from polygon.rest.models import UniversalSnapshot, SnapshotMarketType\n",
    "from urllib3 import HTTPResponse\n"
   ]
  },
  {
   "cell_type": "code",
   "execution_count": 35,
   "metadata": {},
   "outputs": [],
   "source": [
    "from polygon.rest.models import (\n",
    "    TickerNews,\n",
    ")"
   ]
  },
  {
   "cell_type": "code",
   "execution_count": 39,
   "metadata": {},
   "outputs": [],
   "source": [
    "from polygon.rest.models import (\n",
    "    Trade,\n",
    ")\n"
   ]
  },
  {
   "cell_type": "markdown",
   "metadata": {},
   "source": [
    "## Polygon API"
   ]
  },
  {
   "cell_type": "code",
   "execution_count": 1,
   "metadata": {},
   "outputs": [],
   "source": [
    "polygon_key = \"pnkoTSnYpxNLqJajlEBPXTqKf2nxqO43\""
   ]
  },
  {
   "cell_type": "code",
   "execution_count": 2,
   "metadata": {},
   "outputs": [],
   "source": [
    "from polygon.rest import RESTClient"
   ]
  },
  {
   "cell_type": "code",
   "execution_count": 3,
   "metadata": {},
   "outputs": [],
   "source": [
    "client = RESTClient(api_key=\"pnkoTSnYpxNLqJajlEBPXTqKf2nxqO43\")"
   ]
  },
  {
   "cell_type": "markdown",
   "metadata": {},
   "source": [
    "# Financials"
   ]
  },
  {
   "cell_type": "code",
   "execution_count": 14,
   "metadata": {},
   "outputs": [
    {
     "name": "stdout",
     "output_type": "stream",
     "text": [
      "[Dividend(id='Ecef5e6c1102feab369ba58fd3711d50321893d7fd7aabbc10112c621327476f9', cash_amount=0.83, currency='USD', declaration_date='2024-12-03', dividend_type='CD', ex_dividend_date='2025-02-20', frequency=4, pay_date='2025-03-13', record_date='2025-02-20', ticker='MSFT'), Dividend(id='Ef6b22a952d02416181303e714b00cb2a525188b4c145e99c594ac18fd66c651c', cash_amount=0.83, currency='USD', declaration_date='2024-09-16', dividend_type='CD', ex_dividend_date='2024-11-21', frequency=4, pay_date='2024-12-12', record_date='2024-11-21', ticker='MSFT'), Dividend(id='E86c03763df7f6fd3ff98aaa5f589bec9656ec368f02c66f9d1fe23b7f852b495', cash_amount=0.75, currency='USD', declaration_date='2024-06-12', dividend_type='CD', ex_dividend_date='2024-08-15', frequency=4, pay_date='2024-09-12', record_date='2024-08-15', ticker='MSFT'), Dividend(id='E4d5ec44e3af6d9c003c795a6a865945539467c8337621b958aabee1727b94d22', cash_amount=0.75, currency='USD', declaration_date='2024-03-12', dividend_type='CD', ex_dividend_date='2024-05-15', frequency=4, pay_date='2024-06-13', record_date='2024-05-16', ticker='MSFT'), Dividend(id='Efc39ba5de8c72013c7715c6c6f1b9b96ee04b5167397d227b9d7b25cef52f3c3', cash_amount=0.75, currency='USD', declaration_date='2023-11-28', dividend_type='CD', ex_dividend_date='2024-02-14', frequency=4, pay_date='2024-03-14', record_date='2024-02-15', ticker='MSFT'), Dividend(id='E5f2084116a8656dbf17afede4f20f089c59a72394ea0aaebabf5852bc127cef5', cash_amount=0.75, currency='USD', declaration_date='2023-09-19', dividend_type='CD', ex_dividend_date='2023-11-15', frequency=4, pay_date='2023-12-14', record_date='2023-11-16', ticker='MSFT'), Dividend(id='E0d18b51ab7eaa7399bf199f9e9288f0d5bdad38aaf10a146f378682a993c7cd1', cash_amount=0.68, currency='USD', declaration_date='2023-06-13', dividend_type='CD', ex_dividend_date='2023-08-16', frequency=4, pay_date='2023-09-14', record_date='2023-08-17', ticker='MSFT'), Dividend(id='E5ab30221f595c9fdb5aa5ccbdc6d474738404955a86ed4f0960a04feb5da9222', cash_amount=0.68, currency='USD', declaration_date='2023-03-14', dividend_type='CD', ex_dividend_date='2023-05-17', frequency=4, pay_date='2023-06-08', record_date='2023-05-18', ticker='MSFT'), Dividend(id='E7e3329994f4ae9ba9c1062b3924ad38ef3390559c1bb2871268f0531397eb180', cash_amount=0.68, currency='USD', declaration_date='2022-11-29', dividend_type='CD', ex_dividend_date='2023-02-15', frequency=4, pay_date='2023-03-09', record_date='2023-02-16', ticker='MSFT'), Dividend(id='E1e9f39365baa699a74a56fd1084be8714082e90d5fe4891dd5fe28fc965c038c', cash_amount=0.68, currency='USD', declaration_date='2022-09-20', dividend_type='CD', ex_dividend_date='2022-11-16', frequency=4, pay_date='2022-12-08', record_date='2022-11-17', ticker='MSFT'), Dividend(id='Ec61c7a412fdffd60f646202361b869ea302be23957a615b790316895416fc602', cash_amount=0.62, currency='USD', declaration_date='2022-06-14', dividend_type='CD', ex_dividend_date='2022-08-17', frequency=4, pay_date='2022-09-08', record_date='2022-08-18', ticker='MSFT'), Dividend(id='Efbdc6ed0934de4656330289f9f9e44dec391bcb8cf8b71c596539456b7b8ac2d', cash_amount=0.62, currency='USD', declaration_date='2022-03-14', dividend_type='CD', ex_dividend_date='2022-05-18', frequency=4, pay_date='2022-06-09', record_date='2022-05-19', ticker='MSFT'), Dividend(id='E9d82c40df315e71235f45b50a870347e05104d382899961bf532606bf2f87f59', cash_amount=0.62, currency='USD', declaration_date='2021-12-07', dividend_type='CD', ex_dividend_date='2022-02-16', frequency=4, pay_date='2022-03-10', record_date='2022-02-17', ticker='MSFT'), Dividend(id='E7068b9714a4aa852526141ebafe615f2f39b3f040b8e87ae7ee5cdc781e8257b', cash_amount=0.62, currency='USD', declaration_date='2021-09-14', dividend_type='CD', ex_dividend_date='2021-11-17', frequency=4, pay_date='2021-12-09', record_date='2021-11-18', ticker='MSFT'), Dividend(id='E094e38e57fdf26bc5a12edb3f1bcefea1ddff7edda3df45d33f078c69583e79d', cash_amount=0.56, currency='USD', declaration_date='2021-06-16', dividend_type='CD', ex_dividend_date='2021-08-18', frequency=4, pay_date='2021-09-09', record_date='2021-08-19', ticker='MSFT'), Dividend(id='E60403372829101540224a5bfb68cf07b341fd0db6797a015f44dad75c09660fb', cash_amount=0.56, currency='USD', declaration_date='2021-03-16', dividend_type='CD', ex_dividend_date='2021-05-19', frequency=4, pay_date='2021-06-10', record_date='2021-05-20', ticker='MSFT'), Dividend(id='E6293edf01cf837e057692aa0b430746612a57e13f6472572c7ee1593f4cd4897', cash_amount=0.56, currency='USD', declaration_date='2020-12-02', dividend_type='CD', ex_dividend_date='2021-02-17', frequency=4, pay_date='2021-03-11', record_date='2021-02-18', ticker='MSFT'), Dividend(id='Ebfb3c62abe333c31e8e20f68a5897c76b754743fb7050a2df0216ab95be9af9f', cash_amount=0.56, currency='USD', declaration_date='2020-09-15', dividend_type='CD', ex_dividend_date='2020-11-18', frequency=4, pay_date='2020-12-10', record_date='2020-11-19', ticker='MSFT'), Dividend(id='E9f61ba5f4d836ecbdda15c880f3320a57ea17e6a1a4281e6a145a74f01ca1b01', cash_amount=0.51, currency='USD', declaration_date='2020-06-17', dividend_type='CD', ex_dividend_date='2020-08-19', frequency=4, pay_date='2020-09-10', record_date='2020-08-20', ticker='MSFT'), Dividend(id='E9595bfa3e9ce18324abd6a146c03d8b53e5ff2b5a2edf5bcb6b871a0bea34371', cash_amount=0.51, currency='USD', declaration_date='2020-03-09', dividend_type='CD', ex_dividend_date='2020-05-20', frequency=4, pay_date='2020-06-11', record_date='2020-05-21', ticker='MSFT'), Dividend(id='E8a603cefb02da88f67b67239c772bcb12c18d1881e129f73fb5ce2cb1a40ef69', cash_amount=0.51, currency='USD', declaration_date='2019-12-04', dividend_type='CD', ex_dividend_date='2020-02-19', frequency=4, pay_date='2020-03-12', record_date='2020-02-20', ticker='MSFT'), Dividend(id='Ef41c12400ec8d87a7119efec6d86235144380d9de41ea779cc4f5855d36a33ee', cash_amount=0.51, currency='USD', declaration_date='2019-09-18', dividend_type='CD', ex_dividend_date='2019-11-20', frequency=4, pay_date='2019-12-12', record_date='2019-11-21', ticker='MSFT'), Dividend(id='E15d4ca1162bf07b739d165b09ac3be395cc6812596c03ab694a18087f4a69b3f', cash_amount=0.46, currency='USD', declaration_date='2019-06-12', dividend_type='CD', ex_dividend_date='2019-08-14', frequency=4, pay_date='2019-09-12', record_date='2019-08-15', ticker='MSFT'), Dividend(id='Ee1b9de2f26ff7260caaca7b6784b6615b63fa47cc73090313c175948e19e0abd', cash_amount=0.46, currency='USD', declaration_date='2019-03-11', dividend_type='CD', ex_dividend_date='2019-05-15', frequency=4, pay_date='2019-06-13', record_date='2019-05-16', ticker='MSFT'), Dividend(id='E46f87041d1a76d8a3beec25bc78366c51823808c53480580c76bdb29410f5be6', cash_amount=0.46, currency='USD', declaration_date='2018-11-28', dividend_type='CD', ex_dividend_date='2019-02-20', frequency=4, pay_date='2019-03-14', record_date='2019-02-21', ticker='MSFT'), Dividend(id='E1380733ee48e683bb508c52d9f7907712f9f40f01df0496dec96b0b07394c9cb', cash_amount=0.46, currency='USD', declaration_date='2018-09-18', dividend_type='CD', ex_dividend_date='2018-11-14', frequency=4, pay_date='2018-12-13', record_date='2018-11-15', ticker='MSFT'), Dividend(id='E7ed0dbdf53f4323fa9b870ec9025b681d6c8241b1198a2c7c7610e6b9927232e', cash_amount=0.42, currency='USD', declaration_date='2018-06-13', dividend_type='CD', ex_dividend_date='2018-08-15', frequency=4, pay_date='2018-09-13', record_date='2018-08-16', ticker='MSFT'), Dividend(id='Ee24ace2c55b9d662fc8c21bf1aa3bc6cb7be8326cdca61ef97fae19cc15e6507', cash_amount=0.42, currency='USD', declaration_date='2018-03-12', dividend_type='CD', ex_dividend_date='2018-05-16', frequency=4, pay_date='2018-06-14', record_date='2018-05-17', ticker='MSFT'), Dividend(id='E981d08ee01140fe56553dbce6c8dbcfacc889637990ab3efa996e178709d53f7', cash_amount=0.42, currency='USD', declaration_date='2017-11-29', dividend_type='CD', ex_dividend_date='2018-02-14', frequency=4, pay_date='2018-03-08', record_date='2018-02-15', ticker='MSFT'), Dividend(id='Ed4bcf8220e7804817ab94075f4037b3cbf7924cc0052ea85f7d928c78dcdbbf8', cash_amount=0.42, currency='USD', declaration_date='2017-09-19', dividend_type='CD', ex_dividend_date='2017-11-15', frequency=4, pay_date='2017-12-14', record_date='2017-11-16', ticker='MSFT'), Dividend(id='Ee62b3128b6534b647547737c464be6d6818eb1948bdb90fc4ff362aabbf8a88f', cash_amount=0.39, currency='USD', declaration_date='2017-06-13', dividend_type='CD', ex_dividend_date='2017-08-15', frequency=4, pay_date='2017-09-14', record_date='2017-08-17', ticker='MSFT'), Dividend(id='E51dbca0b7cd9bc78a1ecc622fbd28149c78cc9aa5ffd18a41827fc504f0d7bbf', cash_amount=0.39, currency='USD', declaration_date='2017-03-14', dividend_type='CD', ex_dividend_date='2017-05-16', frequency=4, pay_date='2017-06-08', record_date='2017-05-18', ticker='MSFT'), Dividend(id='E6cf0c1542580b6c6e7d335d92e0af7000056920c38a3800217e8a3cf94abe8af', cash_amount=0.39, currency='USD', declaration_date='2016-11-30', dividend_type='CD', ex_dividend_date='2017-02-14', frequency=4, pay_date='2017-03-09', record_date='2017-02-16', ticker='MSFT'), Dividend(id='E339ea69bffaa2b829fe00421a6298fbb29e21ada6d068881c8af5949f55efb6f', cash_amount=0.39, currency='USD', declaration_date='2016-09-20', dividend_type='CD', ex_dividend_date='2016-11-15', frequency=4, pay_date='2016-12-08', record_date='2016-11-17', ticker='MSFT'), Dividend(id='E82c4c8dcd0cc1ed6663a300fe07ad19fa206b49592ee025b80229db06cc94863', cash_amount=0.36, currency='USD', declaration_date='2016-06-14', dividend_type='CD', ex_dividend_date='2016-08-16', frequency=4, pay_date='2016-09-08', record_date='2016-08-18', ticker='MSFT'), Dividend(id='E269a5bf31fb7100f108eb19cc607ed61af76d8437160ad437ba86d495c065c22', cash_amount=0.36, currency='USD', declaration_date='2016-03-15', dividend_type='CD', ex_dividend_date='2016-05-17', frequency=4, pay_date='2016-06-09', record_date='2016-05-19', ticker='MSFT'), Dividend(id='E570147f2286ac6e12f14adacb40b47c17fdf6fded5e0587025319ad141b04c0b', cash_amount=0.36, currency='USD', declaration_date='2015-12-02', dividend_type='CD', ex_dividend_date='2016-02-16', frequency=4, pay_date='2016-03-10', record_date='2016-02-18', ticker='MSFT'), Dividend(id='E0f640e0eb2db2cefb0c76377c1e195f432435d94f91313c47e591ab86ce49428', cash_amount=0.36, currency='USD', declaration_date='2015-09-15', dividend_type='CD', ex_dividend_date='2015-11-17', frequency=4, pay_date='2015-12-10', record_date='2015-11-19', ticker='MSFT'), Dividend(id='E121912ba14fdf8ba8dea7eeda8f6ed17896c4caf6e5f6d5a8829346475acbf9e', cash_amount=0.31, currency='USD', declaration_date='2015-06-09', dividend_type='CD', ex_dividend_date='2015-08-18', frequency=4, pay_date='2015-09-10', record_date='2015-08-20', ticker='MSFT'), Dividend(id='Ea6371576114bba2db62630c8a3081a2872ee2c585c4519091d683bea30510300', cash_amount=0.31, currency='USD', declaration_date='2015-03-10', dividend_type='CD', ex_dividend_date='2015-05-19', frequency=4, pay_date='2015-06-11', record_date='2015-05-21', ticker='MSFT'), Dividend(id='E57a93baea3361f69c0609361c2a38373aec6384526e56d0a8b1d1e853aa97a04', cash_amount=0.31, currency='USD', declaration_date='2014-12-03', dividend_type='CD', ex_dividend_date='2015-02-17', frequency=4, pay_date='2015-03-12', record_date='2015-02-19', ticker='MSFT'), Dividend(id='E5ae995b1b8b002ae6b6fa27c62005626821ffdfce0bfb3a2afdd196ccdede4ee', cash_amount=0.31, currency='USD', declaration_date='2014-09-16', dividend_type='CD', ex_dividend_date='2014-11-18', frequency=4, pay_date='2014-12-11', record_date='2014-11-20', ticker='MSFT'), Dividend(id='E90d23d38f5acc430beb7faba2c2884e79457274119d51fb6b5f35b60310f2cad', cash_amount=0.28, currency='USD', declaration_date='2014-06-10', dividend_type='CD', ex_dividend_date='2014-08-19', frequency=4, pay_date='2014-09-11', record_date='2014-08-21', ticker='MSFT'), Dividend(id='E7e354a39a8e82203dec9e2183b8f57382922e4a9157b1e58c225eb7543742daa', cash_amount=0.28, currency='USD', declaration_date='2014-03-11', dividend_type='CD', ex_dividend_date='2014-05-13', frequency=4, pay_date='2014-06-12', record_date='2014-05-15', ticker='MSFT'), Dividend(id='E06b4b5e64a88f2d5d8ecc9d5ec5462e695c420c3b8a2e1d986dffda661dbe633', cash_amount=0.28, currency='USD', declaration_date='2013-11-19', dividend_type='CD', ex_dividend_date='2014-02-18', frequency=4, pay_date='2014-03-13', record_date='2014-02-20', ticker='MSFT'), Dividend(id='E3f647c3a44515167a0bbf6c86e78b32d07f1ff10a144c9b2ad188e91de1450af', cash_amount=0.28, currency='USD', declaration_date='2013-09-16', dividend_type='CD', ex_dividend_date='2013-11-19', frequency=4, pay_date='2013-12-12', record_date='2013-11-21', ticker='MSFT'), Dividend(id='E9be0575498f8ba5d5b75c6e294abe8c1619ec94075782b05f5e666336381ef2e', cash_amount=0.23, currency='USD', declaration_date='2013-06-12', dividend_type='CD', ex_dividend_date='2013-08-13', frequency=4, pay_date='2013-09-12', record_date='2013-08-15', ticker='MSFT'), Dividend(id='Ef745968a0ffad9f67a3a65b92d8ea760bc16c38cd3a3ae2fb8ee85c8547984b2', cash_amount=0.23, currency='USD', declaration_date='2013-03-11', dividend_type='CD', ex_dividend_date='2013-05-14', frequency=4, pay_date='2013-06-13', record_date='2013-05-16', ticker='MSFT'), Dividend(id='E4cabb7f1f99e57c9e7b335e4c09e5ebba02d9a4ac7fe04626fcf54c92b32c02e', cash_amount=0.23, currency='USD', declaration_date='2012-11-28', dividend_type='CD', ex_dividend_date='2013-02-19', frequency=4, pay_date='2013-03-14', record_date='2013-02-21', ticker='MSFT'), Dividend(id='E2049f8d1a27003b858e1fab2a7c15a062c76d3304bcf3154f5d4b3229093a976', cash_amount=0.23, currency='USD', declaration_date=None, dividend_type='CD', ex_dividend_date='2012-11-13', frequency=4, pay_date='2012-12-13', record_date='2012-11-15', ticker='MSFT'), Dividend(id='E49f4e14ef9d3ea595fec10d27d4828667042b603dbcc47e6262a51a514103976', cash_amount=0.2, currency='USD', declaration_date=None, dividend_type='CD', ex_dividend_date='2012-08-14', frequency=4, pay_date='2012-09-13', record_date='2012-08-16', ticker='MSFT'), Dividend(id='E57dd772613b30ac44fe585bb987f183d9a02669ed4ae8ce34cdbe1ba42292eb8', cash_amount=0.2, currency='USD', declaration_date=None, dividend_type='CD', ex_dividend_date='2012-05-15', frequency=4, pay_date='2012-06-14', record_date='2012-05-17', ticker='MSFT'), Dividend(id='Ef511ed767bc8d6aa8bc6c9cd61a9e84b0e4a243f4525981d1344d2b8600bbfed', cash_amount=0.2, currency='USD', declaration_date=None, dividend_type='CD', ex_dividend_date='2012-02-14', frequency=4, pay_date='2012-03-08', record_date='2012-02-16', ticker='MSFT'), Dividend(id='E199bca9c852898f3b7cfd9f7a98cd0b90b00d23da34d5e652596d0b6238415e3', cash_amount=0.2, currency='USD', declaration_date=None, dividend_type='CD', ex_dividend_date='2011-11-15', frequency=4, pay_date='2011-12-08', record_date='2011-11-17', ticker='MSFT'), Dividend(id='E995a9a08511eb780ad4fd38c88229ef2ca09ad57ddcb7c0a807d7ac38b0f5a4a', cash_amount=0.16, currency='USD', declaration_date=None, dividend_type='CD', ex_dividend_date='2011-08-16', frequency=4, pay_date='2011-09-08', record_date='2011-08-18', ticker='MSFT'), Dividend(id='Ed8b7ddd3725cd833cb83b03ce5185d4b3b788dcac850af5bb3d7f2add1630b94', cash_amount=0.16, currency='USD', declaration_date=None, dividend_type='CD', ex_dividend_date='2011-05-17', frequency=4, pay_date='2011-06-09', record_date='2011-05-19', ticker='MSFT'), Dividend(id='E24f46d20f77a3409dd86782e58b92922b8ca768315f263174e1964f561582856', cash_amount=0.16, currency='USD', declaration_date=None, dividend_type='CD', ex_dividend_date='2011-02-15', frequency=4, pay_date='2011-03-10', record_date='2011-02-17', ticker='MSFT'), Dividend(id='Eecac41d85206612be5011a9a5b6cd8ba0cb65802073b26e63dc7afcad4d2b1cf', cash_amount=0.16, currency='USD', declaration_date=None, dividend_type='CD', ex_dividend_date='2010-11-16', frequency=4, pay_date='2010-12-09', record_date='2010-11-18', ticker='MSFT'), Dividend(id='E8ee29f8a8024ddaf81c5f8bcf288f18d881e113a3b9cd3d74953e082475d7182', cash_amount=0.13, currency='USD', declaration_date=None, dividend_type='CD', ex_dividend_date='2010-08-17', frequency=4, pay_date='2010-09-09', record_date='2010-08-19', ticker='MSFT'), Dividend(id='Ea4391b55753bd7946efa5b84994fb9d869eee3dc23d642179628cfb542115bc6', cash_amount=0.13, currency='USD', declaration_date=None, dividend_type='CD', ex_dividend_date='2010-05-18', frequency=4, pay_date='2010-06-10', record_date='2010-05-20', ticker='MSFT'), Dividend(id='Ed42f59aa214192301fc3cc3ff7139287190e3d13bfc760494c63640432dcb612', cash_amount=0.13, currency='USD', declaration_date=None, dividend_type='CD', ex_dividend_date='2010-02-16', frequency=4, pay_date='2010-03-11', record_date='2010-02-18', ticker='MSFT'), Dividend(id='Ebd7433384087c454b1449bdc510f4be94c6c023f349b1dcf3b7d946d982cd034', cash_amount=0.13, currency='USD', declaration_date=None, dividend_type='CD', ex_dividend_date='2009-11-17', frequency=4, pay_date='2009-12-10', record_date='2009-11-19', ticker='MSFT'), Dividend(id='Ec9683da45e0e52e444e39c0a555bb081a234bd479c9036ba30a7c18e5dddd51f', cash_amount=0.13, currency='USD', declaration_date=None, dividend_type='CD', ex_dividend_date='2009-08-18', frequency=4, pay_date='2009-09-10', record_date='2009-08-20', ticker='MSFT'), Dividend(id='E97dd2beb58b55e23caad3c2bdc8819f2800ea3b3192b9ac170bc3d004c5a3930', cash_amount=0.13, currency='USD', declaration_date=None, dividend_type='CD', ex_dividend_date='2009-05-19', frequency=4, pay_date='2009-06-18', record_date='2009-05-21', ticker='MSFT'), Dividend(id='Ead90a9cea71608451d17b10f489048090b568b030ab64b8632a33a6d7f86b3aa', cash_amount=0.13, currency='USD', declaration_date=None, dividend_type='CD', ex_dividend_date='2009-02-17', frequency=4, pay_date='2009-03-12', record_date='2009-02-19', ticker='MSFT'), Dividend(id='E5fe107a815fe78f3bcd725157d8323d67f23388d3cd3e362dfa9cb1871a82651', cash_amount=0.13, currency='USD', declaration_date=None, dividend_type='CD', ex_dividend_date='2008-11-18', frequency=4, pay_date='2008-12-11', record_date='2008-11-20', ticker='MSFT'), Dividend(id='Eab20895cef7a5b9eec1b7150ce6bada94239628f06549c8778b7722dcee4028c', cash_amount=0.11, currency='USD', declaration_date=None, dividend_type='CD', ex_dividend_date='2008-08-19', frequency=4, pay_date='2008-09-11', record_date='2008-08-21', ticker='MSFT'), Dividend(id='Ee0c640455961148edfa177e7c8f6326617479d636034a3487c1377228e4eb3ca', cash_amount=0.11, currency='USD', declaration_date=None, dividend_type='CD', ex_dividend_date='2008-05-13', frequency=4, pay_date='2008-06-12', record_date='2008-05-15', ticker='MSFT'), Dividend(id='Ee7cd9711b223f03897e8d43b48f740d8cbc8b8f5689f8578ca407def400a6daa', cash_amount=0.11, currency='USD', declaration_date=None, dividend_type='CD', ex_dividend_date='2008-02-19', frequency=4, pay_date='2008-03-13', record_date='2008-02-21', ticker='MSFT'), Dividend(id='E4775e44c6cf95ca4189846d05022729384c440e8753e6b96397bb955ad6e1592', cash_amount=0.11, currency='USD', declaration_date=None, dividend_type='CD', ex_dividend_date='2007-11-13', frequency=4, pay_date='2007-12-13', record_date='2007-11-15', ticker='MSFT'), Dividend(id='E1f08c147fff37d28d376634cecbde434569631db18f7b3ba1b5a352fed8ce8bb', cash_amount=0.1, currency='USD', declaration_date=None, dividend_type='CD', ex_dividend_date='2007-08-14', frequency=4, pay_date='2007-09-13', record_date='2007-08-16', ticker='MSFT'), Dividend(id='E7d6c788df469d565e76305ea41d3876eb3a874e221ba59a4f8c3393adfe09d58', cash_amount=0.1, currency='USD', declaration_date=None, dividend_type='CD', ex_dividend_date='2007-05-15', frequency=4, pay_date='2007-06-14', record_date='2007-05-17', ticker='MSFT'), Dividend(id='E9dc058dfc10ddcb597bb502fafb2b96a5a2c70b530f529dd9b076e3ea66cb829', cash_amount=0.1, currency='USD', declaration_date=None, dividend_type='CD', ex_dividend_date='2007-02-13', frequency=4, pay_date='2007-03-08', record_date='2007-02-15', ticker='MSFT'), Dividend(id='E840555ba411d274d13d03855f168e64f266a0465a3eac072988869ff8e5354ca', cash_amount=0.1, currency='USD', declaration_date=None, dividend_type='CD', ex_dividend_date='2006-11-14', frequency=4, pay_date='2006-12-14', record_date='2006-11-16', ticker='MSFT'), Dividend(id='Ef1796b85c0e1c987118f24b510689326de2bfa227023991ac90ada2f31b53db1', cash_amount=0.09, currency='USD', declaration_date=None, dividend_type='CD', ex_dividend_date='2006-08-15', frequency=4, pay_date='2006-09-14', record_date='2006-08-17', ticker='MSFT'), Dividend(id='E7a6f266217ff483fee1b26932afdbae5b2dccaa104860b8ac96a5c4545421324', cash_amount=0.09, currency='USD', declaration_date=None, dividend_type='CD', ex_dividend_date='2006-05-15', frequency=4, pay_date='2006-06-08', record_date='2006-05-17', ticker='MSFT'), Dividend(id='E11cf1302bc312b134841b7ff22a94d75169d26277292056c33e8a7d4c1724953', cash_amount=0.09, currency='USD', declaration_date=None, dividend_type='CD', ex_dividend_date='2006-02-15', frequency=4, pay_date='2006-03-09', record_date='2006-02-17', ticker='MSFT'), Dividend(id='E217678077bbdf55d25b27bce55e92cd3412c5afb40ea58bd82ff4313a3d3e450', cash_amount=0.08, currency='USD', declaration_date=None, dividend_type='CD', ex_dividend_date='2005-11-15', frequency=4, pay_date='2005-12-08', record_date='2005-11-17', ticker='MSFT'), Dividend(id='E0cb1a23db007eb2401e3735156673c3d3edfb208c42d029f2050a448626b5f20', cash_amount=0.08, currency='USD', declaration_date=None, dividend_type='CD', ex_dividend_date='2005-08-15', frequency=4, pay_date='2005-09-08', record_date='2005-08-17', ticker='MSFT'), Dividend(id='E19169b31bb123f28fb3102c16a7c900faf167a2a7376e4c5c504d15bf09f51d8', cash_amount=0.08, currency='USD', declaration_date=None, dividend_type='CD', ex_dividend_date='2005-05-16', frequency=4, pay_date='2005-06-09', record_date='2005-05-18', ticker='MSFT'), Dividend(id='E5340d58dd10b8cf96b022083fd436d62f41d59102056db0a0726d47deef2e7a3', cash_amount=0.08, currency='USD', declaration_date=None, dividend_type='CD', ex_dividend_date='2005-02-15', frequency=4, pay_date='2005-03-10', record_date='2005-02-17', ticker='MSFT'), Dividend(id='Ecf4b2278674d2b476219fd954114b85970ae6fb220ecf61bcc3083c0f01f134c', cash_amount=0.08, currency='USD', declaration_date=None, dividend_type='CD', ex_dividend_date='2004-11-15', frequency=4, pay_date='2004-12-02', record_date='2004-11-17', ticker='MSFT'), Dividend(id='Ea452ff0a4b03b2e1b5654024c05cd280dd6a77303c323b963dfda449b0e97138', cash_amount=3, currency='USD', declaration_date=None, dividend_type='SC', ex_dividend_date='2004-11-15', frequency=0, pay_date='2004-12-02', record_date='2004-11-17', ticker='MSFT'), Dividend(id='E8e97780a63838a6af8287d37d79a1daa34dd0cb640ea35387e80ed98ea12b87f', cash_amount=0.08, currency='USD', declaration_date=None, dividend_type='CD', ex_dividend_date='2004-08-23', frequency=0, pay_date='2004-09-14', record_date='2004-08-25', ticker='MSFT')]\n"
     ]
    }
   ],
   "source": [
    "dividends = []\n",
    "for d in client.list_dividends(\"MSFT\", limit=1000):\n",
    "    dividends.append(d)\n",
    "print(dividends)\n"
   ]
  },
  {
   "cell_type": "code",
   "execution_count": 20,
   "metadata": {},
   "outputs": [
    {
     "name": "stdout",
     "output_type": "stream",
     "text": [
      "[RelatedCompany(ticker='MSFT'), RelatedCompany(ticker='GOOGL'), RelatedCompany(ticker='AMZN'), RelatedCompany(ticker='GOOG'), RelatedCompany(ticker='NVDA'), RelatedCompany(ticker='TSLA'), RelatedCompany(ticker='META'), RelatedCompany(ticker='NFLX'), RelatedCompany(ticker='DIS'), RelatedCompany(ticker='BRK.B')]\n"
     ]
    }
   ],
   "source": [
    "related_companies = client.get_related_companies(\"AAPL\")\n",
    "print(related_companies)\n"
   ]
  },
  {
   "cell_type": "code",
   "execution_count": 26,
   "metadata": {},
   "outputs": [
    {
     "name": "stdout",
     "output_type": "stream",
     "text": [
      "[StockFinancial(cik='0000320193', company_name='Apple Inc.', end_date='2024-09-28', filing_date='2024-11-01', financials=Financials(balance_sheet=BalanceSheet(assets=DataPoint(label='Assets', order=100, unit='USD', value=364980000000.0, derived_from=None, formula=None, source=None, xpath=None), current_assets=DataPoint(label='Current Assets', order=200, unit='USD', value=152987000000.0, derived_from=None, formula=None, source=None, xpath=None), cash=DataPoint(label=None, order=None, unit=None, value=None, derived_from=None, formula=None, source=None, xpath=None), accounts_receivable=DataPoint(label=None, order=None, unit=None, value=None, derived_from=None, formula=None, source=None, xpath=None), inventory=DataPoint(label='Inventory', order=230, unit='USD', value=7286000000.0, derived_from=None, formula=None, source=None, xpath=None), prepaid_expenses=DataPoint(label=None, order=None, unit=None, value=None, derived_from=None, formula=None, source=None, xpath=None), other_current_assets=DataPoint(label='Other Current Assets', order=250, unit='USD', value=145701000000.0, derived_from=None, formula=None, source=None, xpath=None), noncurrent_assets=DataPoint(label='Noncurrent Assets', order=300, unit='USD', value=211993000000.0, derived_from=None, formula=None, source=None, xpath=None), long_term_investments=DataPoint(label=None, order=None, unit=None, value=None, derived_from=None, formula=None, source=None, xpath=None), fixed_assets=DataPoint(label='Fixed Assets', order=320, unit='USD', value=45680000000.0, derived_from=None, formula=None, source=None, xpath=None), intangible_assets=DataPoint(label=None, order=None, unit=None, value=None, derived_from=None, formula=None, source=None, xpath=None), noncurrent_prepaid_expense=DataPoint(label=None, order=None, unit=None, value=None, derived_from=None, formula=None, source=None, xpath=None), other_noncurrent_assets=DataPoint(label='Other Non-current Assets', order=350, unit='USD', value=166313000000.0, derived_from=None, formula=None, source=None, xpath=None), liabilities=DataPoint(label='Liabilities', order=600, unit='USD', value=308030000000.0, derived_from=None, formula=None, source=None, xpath=None), current_liabilities=DataPoint(label='Current Liabilities', order=700, unit='USD', value=176392000000.0, derived_from=None, formula=None, source=None, xpath=None), accounts_payable=DataPoint(label='Accounts Payable', order=710, unit='USD', value=68960000000.0, derived_from=None, formula=None, source=None, xpath=None), interest_payable=DataPoint(label=None, order=None, unit=None, value=None, derived_from=None, formula=None, source=None, xpath=None), wages=DataPoint(label=None, order=None, unit=None, value=None, derived_from=None, formula=None, source=None, xpath=None), other_current_liabilities=DataPoint(label='Other Current Liabilities', order=740, unit='USD', value=107432000000.0, derived_from=None, formula=None, source=None, xpath=None), noncurrent_liabilities=DataPoint(label='Noncurrent Liabilities', order=800, unit='USD', value=131638000000.0, derived_from=None, formula=None, source=None, xpath=None), long_term_debt=DataPoint(label='Long-term Debt', order=810, unit='USD', value=96662000000.0, derived_from=None, formula=None, source=None, xpath=None), other_noncurrent_liabilities=DataPoint(label='Other Non-current Liabilities', order=820, unit='USD', value=34976000000.0, derived_from=None, formula=None, source=None, xpath=None), commitments_and_contingencies=DataPoint(label=None, order=None, unit=None, value=None, derived_from=None, formula=None, source=None, xpath=None), redeemable_noncontrolling_interest=DataPoint(label=None, order=None, unit=None, value=None, derived_from=None, formula=None, source=None, xpath=None), redeemable_noncontrolling_interest_common=DataPoint(label=None, order=None, unit=None, value=None, derived_from=None, formula=None, source=None, xpath=None), redeemable_noncontrolling_interest_other=DataPoint(label=None, order=None, unit=None, value=None, derived_from=None, formula=None, source=None, xpath=None), redeemable_noncontrolling_interest_preferred=DataPoint(label=None, order=None, unit=None, value=None, derived_from=None, formula=None, source=None, xpath=None), equity=DataPoint(label='Equity', order=1400, unit='USD', value=56950000000.0, derived_from=None, formula=None, source=None, xpath=None), equity_attributable_to_noncontrolling_interest=DataPoint(label='Equity Attributable To Noncontrolling Interest', order=1500, unit='USD', value=0, derived_from=None, formula=None, source=None, xpath=None), equity_attributable_to_parent=DataPoint(label='Equity Attributable To Parent', order=1600, unit='USD', value=56950000000.0, derived_from=None, formula=None, source=None, xpath=None), temporary_equity=DataPoint(label=None, order=None, unit=None, value=None, derived_from=None, formula=None, source=None, xpath=None), temporary_equity_attributable_to_parent=DataPoint(label=None, order=None, unit=None, value=None, derived_from=None, formula=None, source=None, xpath=None), liabilities_and_equity=DataPoint(label='Liabilities And Equity', order=1900, unit='USD', value=364980000000.0, derived_from=None, formula=None, source=None, xpath=None)), cash_flow_statement=CashFlowStatement(net_cash_flow_from_operating_activities=DataPoint(label='Net Cash Flow From Operating Activities', order=100, unit='USD', value=118254000000.0, derived_from=None, formula=None, source=None, xpath=None), net_cash_flow_from_operating_activities_continuing=DataPoint(label='Net Cash Flow From Operating Activities, Continuing', order=200, unit='USD', value=118254000000.0, derived_from=None, formula=None, source=None, xpath=None), net_cash_flow_from_operating_activities_discontinued=DataPoint(label=None, order=None, unit=None, value=None, derived_from=None, formula=None, source=None, xpath=None), net_cash_flow_from_investing_activities=DataPoint(label='Net Cash Flow From Investing Activities', order=400, unit='USD', value=2935000000.0, derived_from=None, formula=None, source=None, xpath=None), net_cash_flow_from_investing_activities_continuing=DataPoint(label='Net Cash Flow From Investing Activities, Continuing', order=500, unit='USD', value=2935000000.0, derived_from=None, formula=None, source=None, xpath=None), net_cash_flow_from_investing_activities_discontinued=DataPoint(label=None, order=None, unit=None, value=None, derived_from=None, formula=None, source=None, xpath=None), net_cash_flow_from_financing_activities=DataPoint(label='Net Cash Flow From Financing Activities', order=700, unit='USD', value=-121983000000.0, derived_from=None, formula=None, source=None, xpath=None), net_cash_flow_from_financing_activities_continuing=DataPoint(label='Net Cash Flow From Financing Activities, Continuing', order=800, unit='USD', value=-121983000000.0, derived_from=None, formula=None, source=None, xpath=None), net_cash_flow_from_financing_activities_discontinued=DataPoint(label=None, order=None, unit=None, value=None, derived_from=None, formula=None, source=None, xpath=None), exchange_gains_losses=DataPoint(label=None, order=None, unit=None, value=None, derived_from=None, formula=None, source=None, xpath=None), net_cash_flow=DataPoint(label='Net Cash Flow', order=1100, unit='USD', value=-794000000.0, derived_from=None, formula=None, source=None, xpath=None), net_cash_flow_continuing=DataPoint(label='Net Cash Flow, Continuing', order=1200, unit='USD', value=-794000000.0, derived_from=None, formula=None, source=None, xpath=None), net_cash_flow_discontinued=DataPoint(label=None, order=None, unit=None, value=None, derived_from=None, formula=None, source=None, xpath=None)), comprehensive_income=ComprehensiveIncome(comprehensive_income_loss=DataPoint(label='Comprehensive Income/Loss', order=100, unit='USD', value=98016000000.0, derived_from=None, formula=None, source=None, xpath=None), comprehensive_income_loss_attributable_to_noncontrolling_interest=DataPoint(label='Comprehensive Income/Loss Attributable To Noncontrolling Interest', order=200, unit='USD', value=0, derived_from=None, formula=None, source=None, xpath=None), comprehensive_income_loss_attributable_to_parent=DataPoint(label='Comprehensive Income/Loss Attributable To Parent', order=300, unit='USD', value=98016000000.0, derived_from=None, formula=None, source=None, xpath=None), other_comprehensive_income_loss=DataPoint(label='Other Comprehensive Income/Loss', order=400, unit='USD', value=98016000000.0, derived_from=None, formula=None, source=None, xpath=None), other_comprehensive_income_loss_attributable_to_noncontrolling_interest=DataPoint(label=None, order=None, unit=None, value=None, derived_from=None, formula=None, source=None, xpath=None), other_comprehensive_income_loss_attributable_to_parent=DataPoint(label='Other Comprehensive Income/Loss Attributable To Parent', order=600, unit='USD', value=4280000000.0, derived_from=None, formula=None, source=None, xpath=None)), income_statement=IncomeStatement(revenues=DataPoint(label='Revenues', order=100, unit='USD', value=391035000000.0, derived_from=None, formula=None, source=None, xpath=None), benefits_costs_expenses=DataPoint(label='Benefits Costs and Expenses', order=200, unit='USD', value=267550000000.0, derived_from=None, formula=None, source=None, xpath=None), cost_of_revenue=DataPoint(label='Cost Of Revenue', order=300, unit='USD', value=210352000000.0, derived_from=None, formula=None, source=None, xpath=None), cost_of_revenue_goods=DataPoint(label=None, order=None, unit=None, value=None, derived_from=None, formula=None, source=None, xpath=None), cost_of_revenue_services=DataPoint(label=None, order=None, unit=None, value=None, derived_from=None, formula=None, source=None, xpath=None), costs_and_expenses=DataPoint(label='Costs And Expenses', order=600, unit='USD', value=267550000000.0, derived_from=None, formula=None, source=None, xpath=None), gross_profit=DataPoint(label='Gross Profit', order=800, unit='USD', value=180683000000.0, derived_from=None, formula=None, source=None, xpath=None), gain_loss_on_sale_properties_net_tax=DataPoint(label=None, order=None, unit=None, value=None, derived_from=None, formula=None, source=None, xpath=None), nonoperating_income_loss=DataPoint(label='Nonoperating Income/Loss', order=900, unit='USD', value=269000000.0, derived_from=None, formula=None, source=None, xpath=None), operating_expenses=DataPoint(label='Operating Expenses', order=1000, unit='USD', value=57467000000.0, derived_from=None, formula=None, source=None, xpath=None), selling_general_and_administrative_expenses=DataPoint(label='Selling, General, and Administrative Expenses', order=1010, unit='USD', value=26097000000.0, derived_from=None, formula=None, source=None, xpath=None), depreciation_and_amortization=DataPoint(label=None, order=None, unit=None, value=None, derived_from=None, formula=None, source=None, xpath=None), research_and_development=DataPoint(label='Research and Development', order=1030, unit='USD', value=31370000000.0, derived_from=None, formula=None, source=None, xpath=None), other_operating_expenses=DataPoint(label=None, order=None, unit=None, value=None, derived_from=None, formula=None, source=None, xpath=None), operating_income_loss=DataPoint(label='Operating Income/Loss', order=1100, unit='USD', value=123216000000.0, derived_from=None, formula=None, source=None, xpath=None), other_operating_income_expenses=DataPoint(label=None, order=None, unit=None, value=None, derived_from=None, formula=None, source=None, xpath=None), income_loss_before_equity_method_investments=DataPoint(label=None, order=None, unit=None, value=None, derived_from=None, formula=None, source=None, xpath=None), income_loss_from_continuing_operations_after_tax=DataPoint(label='Income/Loss From Continuing Operations After Tax', order=1400, unit='USD', value=93736000000.0, derived_from=None, formula=None, source=None, xpath=None), income_loss_from_continuing_operations_before_tax=DataPoint(label='Income/Loss From Continuing Operations Before Tax', order=1500, unit='USD', value=123485000000.0, derived_from=None, formula=None, source=None, xpath=None), income_loss_from_discontinued_operations_net_of_tax=DataPoint(label=None, order=None, unit=None, value=None, derived_from=None, formula=None, source=None, xpath=None), income_loss_from_discontinued_operations_net_of_tax_adjustment_to_prior_year_gain_loss_on_disposal=DataPoint(label=None, order=None, unit=None, value=None, derived_from=None, formula=None, source=None, xpath=None), income_loss_from_discontinued_operations_net_of_tax_during_phase_out=DataPoint(label=None, order=None, unit=None, value=None, derived_from=None, formula=None, source=None, xpath=None), income_loss_from_discontinued_operations_net_of_tax_gain_loss_on_disposal=DataPoint(label=None, order=None, unit=None, value=None, derived_from=None, formula=None, source=None, xpath=None), income_loss_from_discontinued_operations_net_of_tax_provision_for_gain_loss_on_disposal=DataPoint(label=None, order=None, unit=None, value=None, derived_from=None, formula=None, source=None, xpath=None), income_loss_from_equity_method_investments=DataPoint(label=None, order=None, unit=None, value=None, derived_from=None, formula=None, source=None, xpath=None), income_tax_expense_benefit=DataPoint(label='Income Tax Expense/Benefit', order=2200, unit='USD', value=29749000000.0, derived_from=None, formula=None, source=None, xpath=None), income_tax_expense_benefit_current=DataPoint(label=None, order=None, unit=None, value=None, derived_from=None, formula=None, source=None, xpath=None), income_tax_expense_benefit_deferred=DataPoint(label=None, order=None, unit=None, value=None, derived_from=None, formula=None, source=None, xpath=None), interest_and_debt_expense=DataPoint(label=None, order=None, unit=None, value=None, derived_from=None, formula=None, source=None, xpath=None), interest_and_dividend_income_operating=DataPoint(label=None, order=None, unit=None, value=None, derived_from=None, formula=None, source=None, xpath=None), interest_expense_operating=DataPoint(label=None, order=None, unit=None, value=None, derived_from=None, formula=None, source=None, xpath=None), interest_income_expense_after_provision_for_losses=DataPoint(label=None, order=None, unit=None, value=None, derived_from=None, formula=None, source=None, xpath=None), interest_income_expense_operating_net=DataPoint(label=None, order=None, unit=None, value=None, derived_from=None, formula=None, source=None, xpath=None), noninterest_expense=DataPoint(label=None, order=None, unit=None, value=None, derived_from=None, formula=None, source=None, xpath=None), noninterest_income=DataPoint(label=None, order=None, unit=None, value=None, derived_from=None, formula=None, source=None, xpath=None), provision_for_loan_lease_and_other_losses=DataPoint(label=None, order=None, unit=None, value=None, derived_from=None, formula=None, source=None, xpath=None), net_income_loss=DataPoint(label='Net Income/Loss', order=3200, unit='USD', value=93736000000.0, derived_from=None, formula=None, source=None, xpath=None), net_income_loss_attributable_to_noncontrolling_interest=DataPoint(label='Net Income/Loss Attributable To Noncontrolling Interest', order=3300, unit='USD', value=0, derived_from=None, formula=None, source=None, xpath=None), net_income_loss_attributable_to_nonredeemable_noncontrolling_interest=DataPoint(label=None, order=None, unit=None, value=None, derived_from=None, formula=None, source=None, xpath=None), net_income_loss_attributable_to_parent=DataPoint(label='Net Income/Loss Attributable To Parent', order=3500, unit='USD', value=93736000000.0, derived_from=None, formula=None, source=None, xpath=None), net_income_loss_attributable_to_redeemable_noncontrolling_interest=DataPoint(label=None, order=None, unit=None, value=None, derived_from=None, formula=None, source=None, xpath=None), net_income_loss_available_to_common_stockholders_basic=DataPoint(label='Net Income/Loss Available To Common Stockholders, Basic', order=3700, unit='USD', value=93736000000.0, derived_from=None, formula=None, source=None, xpath=None), participating_securities_distributed_and_undistributed_earnings_loss_basic=DataPoint(label='Participating Securities, Distributed And Undistributed Earnings/Loss, Basic', order=3800, unit='USD', value=0, derived_from=None, formula=None, source=None, xpath=None), undistributed_earnings_loss_allocated_to_participating_securities_basic=DataPoint(label=None, order=None, unit=None, value=None, derived_from=None, formula=None, source=None, xpath=None), preferred_stock_dividends_and_other_adjustments=DataPoint(label='Preferred Stock Dividends And Other Adjustments', order=3900, unit='USD', value=0, derived_from=None, formula=None, source=None, xpath=None), basic_earnings_per_share=DataPoint(label='Basic Earnings Per Share', order=4200, unit='USD / shares', value=6.11, derived_from=None, formula=None, source=None, xpath=None), diluted_earnings_per_share=DataPoint(label='Diluted Earnings Per Share', order=4300, unit='USD / shares', value=6.08, derived_from=None, formula=None, source=None, xpath=None), basic_average_shares=DataPoint(label='Basic Average Shares', order=4400, unit='shares', value=15343783000.0, derived_from=None, formula=None, source=None, xpath=None), diluted_average_shares=DataPoint(label='Diluted Average Shares', order=4500, unit='shares', value=15408095000.0, derived_from=None, formula=None, source=None, xpath=None), common_stock_dividends=DataPoint(label=None, order=None, unit=None, value=None, derived_from=None, formula=None, source=None, xpath=None))), fiscal_period='FY', fiscal_year='2024', source_filing_file_url='http://api.polygon.io/v1/reference/sec/filings/0000320193-24-000123/files/aapl-20240928_htm.xml', source_filing_url='https://api.polygon.io/v1/reference/sec/filings/0000320193-24-000123', start_date='2023-10-01')]\n"
     ]
    }
   ],
   "source": [
    "financials = []\n",
    "for f in client.vx.list_stock_financials(\"AAPL\", filing_date=\"2024-11-01\"):\n",
    "    financials.append(f)\n",
    "\n",
    "    # get diluted_earnings_per_share\n",
    "    # print(f.financials.income_statement.diluted_earnings_per_share)\n",
    "\n",
    "    # get net_income_loss\n",
    "    # print(f.financials.income_statement.net_income_loss)\n",
    "\n",
    "print(financials)\n"
   ]
  },
  {
   "cell_type": "code",
   "execution_count": 27,
   "metadata": {},
   "outputs": [
    {
     "name": "stdout",
     "output_type": "stream",
     "text": [
      "[Split(id='Ea58e4c7785a1f9b68c3641137e7319bd7f7ff71d006d3132e0d0141b03860eb9', execution_date='2022-08-25', split_from=1, split_to=3, ticker='TSLA'), Split(id='Ec6bfc0213a18bfe35770ec1c95dc1f2ee90e99ab3dc94aad5e9adbe54ad2d6d2', execution_date='2020-08-31', split_from=1, split_to=5, ticker='TSLA')]\n"
     ]
    }
   ],
   "source": [
    "splits = []\n",
    "for s in client.list_splits(\"TSLA\", limit=1000):\n",
    "    splits.append(s)\n",
    "print(splits)\n"
   ]
  },
  {
   "cell_type": "code",
   "execution_count": 32,
   "metadata": {},
   "outputs": [
    {
     "name": "stdout",
     "output_type": "stream",
     "text": [
      "TickerDetails(active=True, address=CompanyAddress(address1='ONE APPLE PARK WAY', address2=None, city='CUPERTINO', state='CA', country=None, postal_code='95014'), branding=Branding(icon_url='https://api.polygon.io/v1/reference/company-branding/YXBwbGUuY29t/images/2024-10-01_icon.png', logo_url='https://api.polygon.io/v1/reference/company-branding/YXBwbGUuY29t/images/2024-10-01_logo.svg', accent_color=None, light_color=None, dark_color=None), cik='0000320193', composite_figi='BBG000B9XRY4', currency_name='usd', currency_symbol=None, base_currency_name=None, base_currency_symbol=None, delisted_utc=None, description=\"Apple is among the largest companies in the world, with a broad portfolio of hardware and software products targeted at consumers and businesses. Apple's iPhone makes up a majority of the firm sales, and Apple's other products like Mac, iPad, and Watch are designed around the iPhone as the focal point of an expansive software ecosystem. Apple has progressively worked to add new applications, like streaming video, subscription bundles, and augmented reality. The firm designs its own software and semiconductors while working with subcontractors like Foxconn and TSMC to build its products and chips. Slightly less than half of Apple's sales come directly through its flagship stores, with a majority of sales coming indirectly through partnerships and distribution.\", ticker_root='AAPL', ticker_suffix=None, homepage_url='https://www.apple.com', list_date='1980-12-12', locale='us', market='stocks', market_cap=3632938134320.0, name='Apple Inc.', phone_number='(408) 996-1010', primary_exchange='XNAS', share_class_figi='BBG001S5N8V8', share_class_shares_outstanding=15022070000, sic_code='3571', sic_description='ELECTRONIC COMPUTERS', ticker='AAPL', total_employees=164000, type='CS', weighted_shares_outstanding=15022073000)\n"
     ]
    }
   ],
   "source": [
    "details = client.get_ticker_details(\"AAPL\")\n",
    "print(details)\n"
   ]
  },
  {
   "cell_type": "markdown",
   "metadata": {},
   "source": [
    "# News"
   ]
  },
  {
   "cell_type": "code",
   "execution_count": 33,
   "metadata": {},
   "outputs": [
    {
     "name": "stdout",
     "output_type": "stream",
     "text": [
      "TickerChangeResults(name='Meta Platforms, Inc. Class A Common Stock', composite_figi='BBG000MM2P62', cik='0001326801', events=[{'ticker_change': {'ticker': 'META'}, 'type': 'ticker_change', 'date': '2022-06-09'}, {'ticker_change': {'ticker': 'FB'}, 'type': 'ticker_change', 'date': '2012-05-18'}])\n"
     ]
    }
   ],
   "source": [
    "events = client.get_ticker_events(\"META\")\n",
    "print(events)\n"
   ]
  },
  {
   "cell_type": "code",
   "execution_count": 36,
   "metadata": {},
   "outputs": [
    {
     "name": "stdout",
     "output_type": "stream",
     "text": [
      "2023-05-03T11:11:00Z     This top-performing macro fund is about to load up on cyclical stocks. Here's why.\n",
      "2023-05-03T10:47:00Z     Bed Bath and Beyond takes aim at ocean carriers, seeks millions in freight dispute\n",
      "2023-05-02T13:05:00Z     3 Steps to Indentifying the Market Environment\n",
      "2023-05-02T12:46:00Z     Apple and 10 other stocks tied to China supply chains are at risk, but 7 others may benefit, says Morgan Stanley\n",
      "2023-05-01T22:13:00Z     AMC CEO slams Robinhood over alert wrongly claiming theater chain had filed for bankruptcy\n",
      "2023-05-01T12:28:00Z     A volatile summer is coming as Fed pause, debt tussle meet. Shelter in these stocks, says strategist\n",
      "2023-05-01T12:11:00Z     Newell Brands President addresses elephant in the room: Bed Bath & Beyond\n",
      "2023-05-01T11:13:00Z     Newell Brands says raising prices by roughly 10% is ‘the right thing to do’\n",
      "2023-04-30T22:38:00Z     Where will Bed Bath & Beyond's customers shop now?\n",
      "2023-04-29T14:54:00Z     'I lost $100,000': investors share Bed Bath & Beyond losses on Reddit after company sold millions of shares ahead of bankruptcy filing\n",
      "2023-04-29T14:46:00Z     Bed Bath & Beyond: from home-goods behemoth to bankruptcy\n",
      "2023-04-28T20:05:16Z     The US Economy On A Tightrope With Continuing Bank Crisis, Company Bankruptcies: More Economic Updates Coming Next Week From Government\n",
      "2023-04-28T15:52:00Z     How the Fed could cause a stock-market crash — and how to play it safe\n",
      "2023-04-28T12:54:00Z     Bed Bath & Beyond bonds see heavy trading following bankruptcy announcement\n",
      "2023-04-28T11:51:00Z     S&P 500 should be sold above 4,200, says Bank of America\n",
      "2023-04-27T15:33:00Z     Bed Bath and Beyond bankruptcy: Giant ‘dancing goose’ celebrates retailer’s demise\n",
      "2023-04-27T13:33:00Z     An undiscovered universe of stocks is trading at 'near generational lows,' asset manager says\n",
      "2023-04-27T12:18:00Z     Bed Bath & Beyond gets Nasdaq delisting notice following bankruptcy: Here's what you need to know\n",
      "2023-04-26T18:36:39Z     Crude Oil Down 3%; Boeing Reports Better-Than-Expected Sales\n",
      "2023-04-26T18:12:50Z     Why Chipotle Shares Are Trading Higher By 13%? Here Are Other Stocks Moving In Wednesday's Mid-Day Session\n",
      "2023-04-26T16:14:00Z     The Container Store will take your expired Bed Bath and Beyond coupons\n"
     ]
    }
   ],
   "source": [
    "news = []\n",
    "for n in client.list_ticker_news(\"BBBY\", order=\"desc\", limit=1000):\n",
    "    news.append(n)\n",
    "\n",
    "# print(news)\n",
    "\n",
    "# print date + title\n",
    "for index, item in enumerate(news):\n",
    "    # verify this is an agg\n",
    "    if isinstance(item, TickerNews):\n",
    "        print(\"{:<25}{:<15}\".format(item.published_utc, item.title))\n",
    "\n",
    "        if index == 20:\n",
    "            break\n"
   ]
  },
  {
   "cell_type": "markdown",
   "metadata": {},
   "source": [
    "# Trades"
   ]
  },
  {
   "cell_type": "code",
   "execution_count": 4,
   "metadata": {},
   "outputs": [
    {
     "name": "stdout",
     "output_type": "stream",
     "text": [
      "[Agg(open=174.57, high=178.49, low=174.44, close=178.44, volume=76545983.0, vwap=177.4855, timestamp=1649044800000, transactions=630374, otc=None)]\n"
     ]
    }
   ],
   "source": [
    "\n",
    "# type: ignore\n",
    "import orjson\n",
    "\n",
    "aggs = client.get_aggs(\"AAPL\", 1, \"day\", \"2022-04-04\", \"2022-04-04\")\n",
    "print(aggs)\n"
   ]
  },
  {
   "cell_type": "code",
   "execution_count": 10,
   "metadata": {},
   "outputs": [
    {
     "name": "stdout",
     "output_type": "stream",
     "text": [
      "[Agg(open=145.54, high=145.54, low=143.92, close=144.13, volume=78860, vwap=144.1047, timestamp=1675069200000, transactions=1989, otc=None), Agg(open=144.12, high=144.16, low=143.97, close=144, volume=24261, vwap=144.0509, timestamp=1675072800000, transactions=803, otc=None), Agg(open=144.03, high=144.07, low=143.56, close=143.93, volume=36345, vwap=143.9008, timestamp=1675076400000, transactions=1078, otc=None), Agg(open=143.95, high=144.89, low=143.95, close=144.8, volume=146803, vwap=144.4423, timestamp=1675080000000, transactions=3030, otc=None), Agg(open=144.31, high=145.64, low=144, close=144.859, volume=457109, vwap=144.8106, timestamp=1675083600000, transactions=6653, otc=None), Agg(open=144.8573, high=145.55, low=144.171, close=145.185, volume=8227262.0, vwap=144.8623, timestamp=1675087200000, transactions=120320, otc=None), Agg(open=145.18, high=145.35, low=143.37, close=143.995, volume=9366206.0, vwap=144.185, timestamp=1675090800000, transactions=84300, otc=None), Agg(open=143.99, high=144.32, low=143.5, close=144.1882, volume=5729678.0, vwap=143.9576, timestamp=1675094400000, transactions=57431, otc=None), Agg(open=144.18, high=144.26, low=143.15, close=143.415, volume=6238575.0, vwap=143.643, timestamp=1675098000000, transactions=55759, otc=None), Agg(open=143.41, high=143.82, low=143.01, close=143.375, volume=5127855.0, vwap=143.3692, timestamp=1675101600000, transactions=50074, otc=None), Agg(open=143.3703, high=143.5899, low=142.881, close=143.19, volume=6273951.0, vwap=143.1983, timestamp=1675105200000, transactions=60961, otc=None), Agg(open=143.19, high=143.52, low=142.85, close=143.03, volume=11497761.0, vwap=143.1263, timestamp=1675108800000, transactions=101850, otc=None), Agg(open=143, high=143.4584, low=142.9967, close=143.11, volume=2480450.0, vwap=143.0068, timestamp=1675112400000, transactions=2213, otc=None), Agg(open=143.12, high=144.9, low=142.94, close=142.95, volume=42274, vwap=143.0376, timestamp=1675116000000, transactions=787, otc=None), Agg(open=143.06, high=143.32, low=143.03, close=143.2, volume=36919, vwap=143.1492, timestamp=1675119600000, transactions=728, otc=None), Agg(open=143.2, high=143.2, low=143, close=143, volume=36319, vwap=143.1035, timestamp=1675123200000, transactions=763, otc=None), Agg(open=142.67, high=142.67, low=142.05, close=142.2, volume=40732, vwap=142.2114, timestamp=1675155600000, transactions=1018, otc=None), Agg(open=142.08, high=142.12, low=141.58, close=141.61, volume=41618, vwap=141.8583, timestamp=1675159200000, transactions=1013, otc=None), Agg(open=141.56, high=141.94, low=141.45, close=141.93, volume=37926, vwap=141.7544, timestamp=1675162800000, transactions=770, otc=None), Agg(open=141.95, high=142.58, low=141.95, close=142.48, volume=109448, vwap=142.2838, timestamp=1675166400000, transactions=2164, otc=None), Agg(open=142.32, high=143.6398, low=141.6515, close=143.26, volume=464162, vwap=142.919, timestamp=1675170000000, transactions=7347, otc=None), Agg(open=143.3, high=143.75, low=142.28, close=142.6456, volume=8393853.0, vwap=142.9241, timestamp=1675173600000, transactions=97796, otc=None), Agg(open=142.65, high=143.35, low=142.41, close=143.16, volume=7976511.0, vwap=142.9921, timestamp=1675177200000, transactions=75557, otc=None), Agg(open=143.17, high=143.64, low=142.99, close=143.2583, volume=4998871.0, vwap=143.3378, timestamp=1675180800000, transactions=50858, otc=None), Agg(open=143.26, high=143.66, low=142.98, close=143.535, volume=4121401.0, vwap=143.3955, timestamp=1675184400000, transactions=38576, otc=None), Agg(open=143.54, high=143.74, low=143.16, close=143.63, volume=3724944.0, vwap=143.4723, timestamp=1675188000000, transactions=35770, otc=None), Agg(open=143.625, high=144, low=143.53, close=143.86, volume=4006090.0, vwap=143.8368, timestamp=1675191600000, transactions=40602, otc=None), Agg(open=143.87, high=144.34, low=143.12, close=144.3, volume=11689584.0, vwap=143.7888, timestamp=1675195200000, transactions=108468, otc=None), Agg(open=144.3, high=144.43, low=143.69, close=143.73, volume=4579579.0, vwap=144.2658, timestamp=1675198800000, transactions=4004, otc=None), Agg(open=143.73, high=144.08, low=143.72, close=143.8801, volume=56639, vwap=143.8844, timestamp=1675202400000, transactions=764, otc=None), Agg(open=143.91, high=143.91, low=143.77, close=143.81, volume=31910, vwap=143.8328, timestamp=1675206000000, transactions=508, otc=None), Agg(open=143.81, high=143.94, low=143.64, close=143.8, volume=47735, vwap=143.7584, timestamp=1675209600000, transactions=782, otc=None), Agg(open=144.29, high=144.29, low=144.01, close=144.08, volume=18591, vwap=144.1386, timestamp=1675242000000, transactions=521, otc=None), Agg(open=144.14, high=144.18, low=143.9, close=143.93, volume=15483, vwap=144.0108, timestamp=1675245600000, transactions=329, otc=None), Agg(open=144, high=144.1, low=143.96, close=144.1, volume=12063, vwap=144.0451, timestamp=1675249200000, transactions=269, otc=None), Agg(open=144.06, high=144.4, low=144.05, close=144.34, volume=88134, vwap=144.2252, timestamp=1675252800000, transactions=1600, otc=None), Agg(open=144.12, high=144.44, low=143.8, close=144.1761, volume=242765, vwap=144.2354, timestamp=1675256400000, transactions=4644, otc=None), Agg(open=144.2, high=144.36, low=142.59, close=143.19, volume=7353957.0, vwap=143.1521, timestamp=1675260000000, transactions=96820, otc=None), Agg(open=143.19, high=143.3999, low=142.35, close=142.59, volume=8928616.0, vwap=142.8956, timestamp=1675263600000, transactions=78756, otc=None), Agg(open=142.59, high=143.02, low=142.255, close=142.34, volume=5357477.0, vwap=142.7012, timestamp=1675267200000, transactions=54630, otc=None), Agg(open=142.34, high=142.44, low=141.72, close=142.19, volume=6274954.0, vwap=142.0487, timestamp=1675270800000, transactions=61559, otc=None), Agg(open=142.18, high=142.71, low=141.84, close=142.48, volume=4964269.0, vwap=142.2097, timestamp=1675274400000, transactions=49766, otc=None), Agg(open=142.4493, high=145.17, low=141.32, close=144.355, volume=15002706.0, vwap=143.3526, timestamp=1675278000000, transactions=146245, otc=None), Agg(open=144.37, high=146.61, low=144.33, close=145.46, volume=18631415.0, vwap=145.5008, timestamp=1675281600000, transactions=175078, otc=None), Agg(open=145.43, high=146.25, low=144.71, close=145.69, volume=3496733.0, vwap=145.4861, timestamp=1675285200000, transactions=10424, otc=None), Agg(open=145.6899, high=146.2, low=145.62, close=145.99, volume=248674, vwap=145.9388, timestamp=1675288800000, transactions=4512, otc=None), Agg(open=145.99, high=146.3, low=145.88, close=146, volume=216019, vwap=146.0965, timestamp=1675292400000, transactions=3844, otc=None), Agg(open=146, high=146.1, low=145.62, close=146.07, volume=184928, vwap=145.9201, timestamp=1675296000000, transactions=3157, otc=None), Agg(open=147.14, high=147.49, low=146.56, close=146.98, volume=156985, vwap=147.0063, timestamp=1675328400000, transactions=3443, otc=None), Agg(open=146.98, high=147.15, low=146.83, close=146.96, volume=69356, vwap=147.0003, timestamp=1675332000000, transactions=1534, otc=None), Agg(open=147, high=147.09, low=146.7, close=146.94, volume=56473, vwap=146.9025, timestamp=1675335600000, transactions=1408, otc=None), Agg(open=146.95, high=147.7, low=146.7, close=147.69, volume=283749, vwap=147.1967, timestamp=1675339200000, transactions=4945, otc=None), Agg(open=147.66, high=148.38, low=146, close=148.33, volume=1306440.0, vwap=147.2259, timestamp=1675342800000, transactions=14672, otc=None), Agg(open=148.33, high=149.51, low=148.06, close=148.59, volume=12870652.0, vwap=149.0361, timestamp=1675346400000, transactions=157529, otc=None), Agg(open=148.5888, high=150.5, low=148.17, close=150.1508, volume=14491673.0, vwap=149.3833, timestamp=1675350000000, transactions=150804, otc=None), Agg(open=150.16, high=150.44, low=149.57, close=149.76, volume=9616347.0, vwap=149.9863, timestamp=1675353600000, transactions=99354, otc=None), Agg(open=149.77, high=150.28, low=149.43, close=149.92, volume=8000514.0, vwap=149.849, timestamp=1675357200000, transactions=76453, otc=None), Agg(open=149.93, high=150.99, low=149.9, close=150.955, volume=8973266.0, vwap=150.279, timestamp=1675360800000, transactions=77929, otc=None), Agg(open=150.955, high=151.18, low=148.95, close=149.045, volume=11011044.0, vwap=149.9834, timestamp=1675364400000, transactions=107503, otc=None), Agg(open=149.05, high=150.92, low=148.72, close=150.92, volume=17616037.0, vwap=149.7889, timestamp=1675368000000, transactions=157913, otc=None), Agg(open=150.82, high=152.0795, low=142.3, close=145, volume=12664367.0, vwap=147.7579, timestamp=1675371600000, transactions=81992, otc=None), Agg(open=144.9, high=151.51, low=143.95, close=149.8799, volume=5158870.0, vwap=147.6894, timestamp=1675375200000, transactions=40582, otc=None), Agg(open=149.77, high=149.89, low=145.75, close=145.9, volume=1477970.0, vwap=147.7274, timestamp=1675378800000, transactions=13038, otc=None), Agg(open=145.8501, high=146.22, low=145.17, close=145.99, volume=574180, vwap=145.8207, timestamp=1675382400000, transactions=5874, otc=None), Agg(open=145.45, high=146.24, low=144.8, close=146.05, volume=133878, vwap=145.5275, timestamp=1675414800000, transactions=4221, otc=None), Agg(open=146.01, high=146.2, low=145.65, close=145.78, volume=51706, vwap=145.8121, timestamp=1675418400000, transactions=1609, otc=None), Agg(open=145.77, high=146.93, low=145.51, close=146.71, volume=142239, vwap=146.357, timestamp=1675422000000, transactions=2834, otc=None), Agg(open=146.71, high=149, low=146.63, close=148.4, volume=1036523.0, vwap=147.8409, timestamp=1675425600000, transactions=11534, otc=None), Agg(open=147.62, high=150.09, low=144, close=147.74, volume=5336895.0, vwap=149.6809, timestamp=1675429200000, transactions=32812, otc=None), Agg(open=147.76, high=153.45, low=147.5, close=153.25, volume=22482392.0, vwap=150.7121, timestamp=1675432800000, transactions=213117, otc=None), Agg(open=153.24, high=157.38, low=152.57, close=155.77, volume=38818576.0, vwap=155.3471, timestamp=1675436400000, transactions=303556, otc=None), Agg(open=155.79, high=157.2, low=155.52, close=155.72, volume=17365798.0, vwap=156.3776, timestamp=1675440000000, transactions=138690, otc=None), Agg(open=155.72, high=156.9899, low=154.44, close=154.5789, volume=12791547.0, vwap=155.9298, timestamp=1675443600000, transactions=104933, otc=None), Agg(open=154.58, high=155.84, low=154.265, close=155.3464, volume=12692219.0, vwap=154.9386, timestamp=1675447200000, transactions=101563, otc=None), Agg(open=155.35, high=155.69, low=154.4, close=154.68, volume=10070902.0, vwap=155.0992, timestamp=1675450800000, transactions=86614, otc=None), Agg(open=154.68, high=155.325, low=154.09, close=154.5, volume=15277173.0, vwap=154.7345, timestamp=1675454400000, transactions=129843, otc=None), Agg(open=154.5, high=154.77, low=154.11, close=154.435, volume=3682097.0, vwap=154.4959, timestamp=1675458000000, transactions=3928, otc=None), Agg(open=154.43, high=154.5, low=154.03, close=154.2, volume=155453, vwap=154.0304, timestamp=1675461600000, transactions=2280, otc=None), Agg(open=154.15, high=154.35, low=154.05, close=154.28, volume=49726, vwap=154.2656, timestamp=1675465200000, transactions=1014, otc=None), Agg(open=154.29, high=154.39, low=154.25, close=154.39, volume=39258, vwap=154.3238, timestamp=1675468800000, transactions=902, otc=None)]\n",
      "timestamp,open,high,low,close,volume,vwap,transactions,otc\n",
      "2023-01-30 17:00:00,145.54,145.54,143.92,144.13,78860,144.1047,1989,\n",
      "2023-01-30 18:00:00,144.12,144.16,143.97,144,24261,144.0509,803,\n",
      "2023-01-30 19:00:00,144.03,144.07,143.56,143.93,36345,143.9008,1078,\n",
      "2023-01-30 20:00:00,143.95,144.89,143.95,144.8,146803,144.4423,3030,\n",
      "2023-01-30 21:00:00,144.31,145.64,144,144.859,457109,144.8106,6653,\n",
      "2023-01-30 22:00:00,144.8573,145.55,144.171,145.185,8227262.0,144.8623,120320,\n",
      "2023-01-30 23:00:00,145.18,145.35,143.37,143.995,9366206.0,144.185,84300,\n",
      "2023-01-31 00:00:00,143.99,144.32,143.5,144.1882,5729678.0,143.9576,57431,\n",
      "2023-01-31 01:00:00,144.18,144.26,143.15,143.415,6238575.0,143.643,55759,\n",
      "2023-01-31 02:00:00,143.41,143.82,143.01,143.375,5127855.0,143.3692,50074,\n",
      "2023-01-31 03:00:00,143.3703,143.5899,142.881,143.19,6273951.0,143.1983,60961,\n",
      "2023-01-31 04:00:00,143.19,143.52,142.85,143.03,11497761.0,143.1263,101850,\n",
      "2023-01-31 05:00:00,143,143.4584,142.9967,143.11,2480450.0,143.0068,2213,\n",
      "2023-01-31 06:00:00,143.12,144.9,142.94,142.95,42274,143.0376,787,\n",
      "2023-01-31 07:00:00,143.06,143.32,143.03,143.2,36919,143.1492,728,\n",
      "2023-01-31 08:00:00,143.2,143.2,143,143,36319,143.1035,763,\n",
      "2023-01-31 17:00:00,142.67,142.67,142.05,142.2,40732,142.2114,1018,\n",
      "2023-01-31 18:00:00,142.08,142.12,141.58,141.61,41618,141.8583,1013,\n",
      "2023-01-31 19:00:00,141.56,141.94,141.45,141.93,37926,141.7544,770,\n",
      "2023-01-31 20:00:00,141.95,142.58,141.95,142.48,109448,142.2838,2164,\n",
      "2023-01-31 21:00:00,142.32,143.6398,141.6515,143.26,464162,142.919,7347,\n",
      "2023-01-31 22:00:00,143.3,143.75,142.28,142.6456,8393853.0,142.9241,97796,\n",
      "2023-01-31 23:00:00,142.65,143.35,142.41,143.16,7976511.0,142.9921,75557,\n",
      "2023-02-01 00:00:00,143.17,143.64,142.99,143.2583,4998871.0,143.3378,50858,\n",
      "2023-02-01 01:00:00,143.26,143.66,142.98,143.535,4121401.0,143.3955,38576,\n",
      "2023-02-01 02:00:00,143.54,143.74,143.16,143.63,3724944.0,143.4723,35770,\n",
      "2023-02-01 03:00:00,143.625,144,143.53,143.86,4006090.0,143.8368,40602,\n",
      "2023-02-01 04:00:00,143.87,144.34,143.12,144.3,11689584.0,143.7888,108468,\n",
      "2023-02-01 05:00:00,144.3,144.43,143.69,143.73,4579579.0,144.2658,4004,\n",
      "2023-02-01 06:00:00,143.73,144.08,143.72,143.8801,56639,143.8844,764,\n",
      "2023-02-01 07:00:00,143.91,143.91,143.77,143.81,31910,143.8328,508,\n",
      "2023-02-01 08:00:00,143.81,143.94,143.64,143.8,47735,143.7584,782,\n",
      "2023-02-01 17:00:00,144.29,144.29,144.01,144.08,18591,144.1386,521,\n",
      "2023-02-01 18:00:00,144.14,144.18,143.9,143.93,15483,144.0108,329,\n",
      "2023-02-01 19:00:00,144,144.1,143.96,144.1,12063,144.0451,269,\n",
      "2023-02-01 20:00:00,144.06,144.4,144.05,144.34,88134,144.2252,1600,\n",
      "2023-02-01 21:00:00,144.12,144.44,143.8,144.1761,242765,144.2354,4644,\n",
      "2023-02-01 22:00:00,144.2,144.36,142.59,143.19,7353957.0,143.1521,96820,\n",
      "2023-02-01 23:00:00,143.19,143.3999,142.35,142.59,8928616.0,142.8956,78756,\n",
      "2023-02-02 00:00:00,142.59,143.02,142.255,142.34,5357477.0,142.7012,54630,\n",
      "2023-02-02 01:00:00,142.34,142.44,141.72,142.19,6274954.0,142.0487,61559,\n",
      "2023-02-02 02:00:00,142.18,142.71,141.84,142.48,4964269.0,142.2097,49766,\n",
      "2023-02-02 03:00:00,142.4493,145.17,141.32,144.355,15002706.0,143.3526,146245,\n",
      "2023-02-02 04:00:00,144.37,146.61,144.33,145.46,18631415.0,145.5008,175078,\n",
      "2023-02-02 05:00:00,145.43,146.25,144.71,145.69,3496733.0,145.4861,10424,\n",
      "2023-02-02 06:00:00,145.6899,146.2,145.62,145.99,248674,145.9388,4512,\n",
      "2023-02-02 07:00:00,145.99,146.3,145.88,146,216019,146.0965,3844,\n",
      "2023-02-02 08:00:00,146,146.1,145.62,146.07,184928,145.9201,3157,\n",
      "2023-02-02 17:00:00,147.14,147.49,146.56,146.98,156985,147.0063,3443,\n",
      "2023-02-02 18:00:00,146.98,147.15,146.83,146.96,69356,147.0003,1534,\n",
      "2023-02-02 19:00:00,147,147.09,146.7,146.94,56473,146.9025,1408,\n",
      "2023-02-02 20:00:00,146.95,147.7,146.7,147.69,283749,147.1967,4945,\n",
      "2023-02-02 21:00:00,147.66,148.38,146,148.33,1306440.0,147.2259,14672,\n",
      "2023-02-02 22:00:00,148.33,149.51,148.06,148.59,12870652.0,149.0361,157529,\n",
      "2023-02-02 23:00:00,148.5888,150.5,148.17,150.1508,14491673.0,149.3833,150804,\n",
      "2023-02-03 00:00:00,150.16,150.44,149.57,149.76,9616347.0,149.9863,99354,\n",
      "2023-02-03 01:00:00,149.77,150.28,149.43,149.92,8000514.0,149.849,76453,\n",
      "2023-02-03 02:00:00,149.93,150.99,149.9,150.955,8973266.0,150.279,77929,\n",
      "2023-02-03 03:00:00,150.955,151.18,148.95,149.045,11011044.0,149.9834,107503,\n",
      "2023-02-03 04:00:00,149.05,150.92,148.72,150.92,17616037.0,149.7889,157913,\n",
      "2023-02-03 05:00:00,150.82,152.0795,142.3,145,12664367.0,147.7579,81992,\n",
      "2023-02-03 06:00:00,144.9,151.51,143.95,149.8799,5158870.0,147.6894,40582,\n",
      "2023-02-03 07:00:00,149.77,149.89,145.75,145.9,1477970.0,147.7274,13038,\n",
      "2023-02-03 08:00:00,145.8501,146.22,145.17,145.99,574180,145.8207,5874,\n",
      "2023-02-03 17:00:00,145.45,146.24,144.8,146.05,133878,145.5275,4221,\n",
      "2023-02-03 18:00:00,146.01,146.2,145.65,145.78,51706,145.8121,1609,\n",
      "2023-02-03 19:00:00,145.77,146.93,145.51,146.71,142239,146.357,2834,\n",
      "2023-02-03 20:00:00,146.71,149,146.63,148.4,1036523.0,147.8409,11534,\n",
      "2023-02-03 21:00:00,147.62,150.09,144,147.74,5336895.0,149.6809,32812,\n",
      "2023-02-03 22:00:00,147.76,153.45,147.5,153.25,22482392.0,150.7121,213117,\n",
      "2023-02-03 23:00:00,153.24,157.38,152.57,155.77,38818576.0,155.3471,303556,\n",
      "2023-02-04 00:00:00,155.79,157.2,155.52,155.72,17365798.0,156.3776,138690,\n",
      "2023-02-04 01:00:00,155.72,156.9899,154.44,154.5789,12791547.0,155.9298,104933,\n",
      "2023-02-04 02:00:00,154.58,155.84,154.265,155.3464,12692219.0,154.9386,101563,\n",
      "2023-02-04 03:00:00,155.35,155.69,154.4,154.68,10070902.0,155.0992,86614,\n",
      "2023-02-04 04:00:00,154.68,155.325,154.09,154.5,15277173.0,154.7345,129843,\n",
      "2023-02-04 05:00:00,154.5,154.77,154.11,154.435,3682097.0,154.4959,3928,\n",
      "2023-02-04 06:00:00,154.43,154.5,154.03,154.2,155453,154.0304,2280,\n",
      "2023-02-04 07:00:00,154.15,154.35,154.05,154.28,49726,154.2656,1014,\n",
      "2023-02-04 08:00:00,154.29,154.39,154.25,154.39,39258,154.3238,902,\n",
      "\n"
     ]
    }
   ],
   "source": [
    "# This code retrieves stock market data for a specific stock using the\n",
    "# Polygon REST API and writes it to a CSV file. It uses the \"polygon\"\n",
    "# library to communicate with the API and the \"csv\" library to write\n",
    "# the data to a CSV file. The script retrieves data for the stock \"AAPL\"\n",
    "# for the dates \"2023-01-30\" to \"2023-02-03\" in 1 hour intervals. The\n",
    "# resulting data includes the open, high, low, close, volume, vwap,\n",
    "# timestamp, transactions, and otc values for each hour. The output is\n",
    "# then printed to the console.\n",
    "from polygon.rest.models import (\n",
    "    Agg,\n",
    ")\n",
    "import csv\n",
    "import datetime\n",
    "import io\n",
    "\n",
    "# docs\n",
    "# https://polygon.io/docs/stocks/get_v2_aggs_ticker__stocksticker__range__multiplier___timespan___from___to\n",
    "# https://polygon-api-client.readthedocs.io/en/latest/Aggs.html#polygon.RESTClient.list_aggs\n",
    "\n",
    "# client = RESTClient(\"XXXXXX\") # hardcoded api_key is used\n",
    "\n",
    "aggs = []\n",
    "for a in client.list_aggs(\n",
    "    \"AAPL\",\n",
    "    1,\n",
    "    \"hour\",\n",
    "    \"2023-01-30\",\n",
    "    \"2023-02-03\",\n",
    "    limit=50000,\n",
    "):\n",
    "    aggs.append(a)\n",
    "\n",
    "print(aggs)\n",
    "\n",
    "# headers\n",
    "headers = [\n",
    "    \"timestamp\",\n",
    "    \"open\",\n",
    "    \"high\",\n",
    "    \"low\",\n",
    "    \"close\",\n",
    "    \"volume\",\n",
    "    \"vwap\",\n",
    "    \"transactions\",\n",
    "    \"otc\",\n",
    "]\n",
    "\n",
    "# creating the csv string\n",
    "csv_string = io.StringIO()\n",
    "writer = csv.DictWriter(csv_string, fieldnames=headers)\n",
    "\n",
    "# writing headers\n",
    "writer.writeheader()\n",
    "\n",
    "# writing data\n",
    "for agg in aggs:\n",
    "    # verify this is an agg\n",
    "    if isinstance(agg, Agg):\n",
    "        # verify this is an int\n",
    "        if isinstance(agg.timestamp, int):\n",
    "            writer.writerow(\n",
    "                {\n",
    "                    \"timestamp\": datetime.datetime.fromtimestamp(agg.timestamp / 1000),\n",
    "                    \"open\": agg.open,\n",
    "                    \"high\": agg.high,\n",
    "                    \"low\": agg.low,\n",
    "                    \"close\": agg.close,\n",
    "                    \"volume\": agg.volume,\n",
    "                    \"vwap\": agg.vwap,\n",
    "                    \"transactions\": agg.transactions,\n",
    "                    \"otc\": agg.otc,\n",
    "                }\n",
    "            )\n",
    "\n",
    "# printing the csv string\n",
    "print(csv_string.getvalue())\n"
   ]
  },
  {
   "cell_type": "code",
   "execution_count": 12,
   "metadata": {},
   "outputs": [
    {
     "name": "stdout",
     "output_type": "stream",
     "text": [
      "DailyOpenCloseAgg(after_hours=154.15, close=154.65, from_='2023-02-07', high=155.23, low=150.64, open=150.64, pre_market=151.79, status='OK', symbol='AAPL', volume=83322551.0, otc=None)\n"
     ]
    }
   ],
   "source": [
    "# make request\n",
    "request = client.get_daily_open_close_agg(\n",
    "    \"AAPL\",\n",
    "    \"2023-02-07\",\n",
    ")\n",
    "\n",
    "print(request)\n"
   ]
  },
  {
   "cell_type": "markdown",
   "metadata": {},
   "source": [
    "### IPO"
   ]
  },
  {
   "cell_type": "code",
   "execution_count": 18,
   "metadata": {},
   "outputs": [
    {
     "name": "stdout",
     "output_type": "stream",
     "text": [
      "[IPOListing(announced_date='2024-02-22', currency_code='USD', final_issue_price=34.0, highest_offer_price=34.0, ipo_status='history', isin='US75734B1008', issuer_name='Reddit Inc.', last_updated='2024-12-02', listing_date='2024-03-21', lot_size=100, lowest_offer_price=31.0, max_shares_offered=22000000, min_shares_offered=None, primary_exchange='XNYS', security_description='Ordinary Shares - Class A', security_type='CS', shares_outstanding=36871367, ticker='RDDT', total_offer_size=519401918.0, us_code='75734B100')]\n"
     ]
    }
   ],
   "source": [
    "\n",
    "# docs\n",
    "# https://polygon.io/docs/stocks/get_vx_reference_ipos\n",
    "\n",
    "# client = RESTClient(\"XXXXXX\") # hardcoded api_key is used\n",
    "\n",
    "ipos = []\n",
    "for ipo in client.vx.list_ipos(ticker=\"RDDT\"):\n",
    "    ipos.append(ipo)\n",
    "\n",
    "print(ipos)\n"
   ]
  },
  {
   "cell_type": "code",
   "execution_count": 23,
   "metadata": {},
   "outputs": [
    {
     "name": "stdout",
     "output_type": "stream",
     "text": [
      "[TickerSnapshot(day=Agg(open=279.5, high=293.88, low=273.6, close=292.98, volume=115022796.0, vwap=287.0097, timestamp=None, transactions=None, otc=None), last_quote=None, last_trade=None, min=MinuteSnapshot(accumulated_volume=115022796.0, open=294.16, high=294.45, low=294.16, close=294.4, volume=17177, vwap=294.3617, otc=None, timestamp=1740790740000, transactions=316), prev_day=Agg(open=291.16, high=297.23, low=280.88, close=281.95, volume=99675189.0, vwap=287.5495, timestamp=None, transactions=None, otc=None), ticker='TSLA', todays_change=12.449999999999989, todays_change_percent=4.4156765383933285, updated=1740790800000000000, fair_market_value=None), TickerSnapshot(day=Agg(open=658.04, high=669.63, low=642.6017, close=668.2, volume=16625091.0, vwap=661.1388, timestamp=None, transactions=None, otc=None), last_quote=None, last_trade=None, min=MinuteSnapshot(accumulated_volume=16624993.0, open=669.5, high=669.5, low=669.4, close=669.4, volume=1886, vwap=669.417, otc=None, timestamp=1740790680000, transactions=30), prev_day=Agg(open=682.45, high=688.6469, low=657.57, close=658.24, volume=12132830.0, vwap=668.6695, timestamp=None, transactions=None, otc=None), ticker='META', todays_change=11.159999999999968, todays_change_percent=1.695430238210982, updated=1740790740000000000, fair_market_value=None), TickerSnapshot(day=Agg(open=392.655, high=397.63, low=386.57, close=396.99, volume=31028501.0, vwap=393.8002, timestamp=None, transactions=None, otc=None), last_quote=None, last_trade=None, min=MinuteSnapshot(accumulated_volume=31028501.0, open=396.32, high=396.7663, low=396.3, close=396.7663, volume=686, vwap=396.4764, otc=None, timestamp=1740790740000, transactions=24), prev_day=Agg(open=401.265, high=405.74, low=392.17, close=392.53, volume=19695498.0, vwap=396.47, timestamp=None, transactions=None, otc=None), ticker='MSFT', todays_change=4.236300000000028, todays_change_percent=1.0792296130232157, updated=1740790800000000000, fair_market_value=None), TickerSnapshot(day=Agg(open=236.95, high=242.09, low=230.2, close=241.84, volume=52500888.0, vwap=239.3193, timestamp=None, transactions=None, otc=None), last_quote=None, last_trade=None, min=MinuteSnapshot(accumulated_volume=52500888.0, open=241.72, high=241.8981, low=241.61, close=241.8981, volume=1735, vwap=241.8088, otc=None, timestamp=1740790740000, transactions=14), prev_day=Agg(open=239.41, high=242.46, low=237.06, close=237.3, volume=38720764.0, vwap=239.6332, timestamp=None, transactions=None, otc=None), ticker='AAPL', todays_change=4.598099999999988, todays_change_percent=1.9376738305941794, updated=1740790800000000000, fair_market_value=None)]\n",
      "TSLA           291.16         281.95         -3.16 %\n",
      "META           682.45         658.24         -3.55 %\n",
      "MSFT           401.265        392.53         -2.18 %\n",
      "AAPL           239.41         237.3          -0.88 %\n"
     ]
    }
   ],
   "source": [
    "# tickers we are interested in\n",
    "tickers = [\"TSLA\", \"AAPL\", \"MSFT\", \"META\"]\n",
    "\n",
    "# snapshot = client.get_snapshot_all(\"stocks\") # all tickers\n",
    "snapshot = client.get_snapshot_all(\"stocks\", tickers)\n",
    "\n",
    "# print raw values\n",
    "print(snapshot)\n",
    "\n",
    "# crunch some numbers\n",
    "for item in snapshot:\n",
    "    # verify this is an TickerSnapshot\n",
    "    if isinstance(item, TickerSnapshot):\n",
    "        # verify this is an Agg\n",
    "        if isinstance(item.prev_day, Agg):\n",
    "            # verify this is a float\n",
    "            if isinstance(item.prev_day.open, float) and isinstance(\n",
    "                item.prev_day.close, float\n",
    "            ):\n",
    "                percent_change = (\n",
    "                    (item.prev_day.close - item.prev_day.open)\n",
    "                    / item.prev_day.open\n",
    "                    * 100\n",
    "                )\n",
    "                print(\n",
    "                    \"{:<15}{:<15}{:<15}{:.2f} %\".format(\n",
    "                        item.ticker,\n",
    "                        item.prev_day.open,\n",
    "                        item.prev_day.close,\n",
    "                        percent_change,\n",
    "                    )\n",
    "                )\n"
   ]
  },
  {
   "cell_type": "code",
   "execution_count": 24,
   "metadata": {},
   "outputs": [
    {
     "name": "stdout",
     "output_type": "stream",
     "text": [
      "LTRYW          118.18 %\n",
      "ORGO           108.14 %\n",
      "TRNR           85.63 %\n",
      "CEROW          56.91 %\n",
      "ACON           55.51 %\n",
      "AIMDW          45.70 %\n",
      "ACONW          44.85 %\n",
      "CLRO           42.73 %\n",
      "OMI            38.32 %\n",
      "TPC            34.39 %\n",
      "BTAI           34.10 %\n",
      "ATMVR          33.07 %\n",
      "GCLWW          32.35 %\n",
      "VMCAW          31.93 %\n",
      "CAMP           30.93 %\n",
      "GIFT           30.26 %\n",
      "HUBC           29.86 %\n",
      "GRRRW          29.45 %\n",
      "PMAX           29.21 %\n",
      "BFRIW          28.57 %\n",
      "RDZN           28.31 %\n",
      "\n",
      "NVNI           -69.50 %\n",
      "SPGC           -62.56 %\n",
      "ZOOZW          -58.47 %\n",
      "ADGM           -42.21 %\n",
      "DFLIW          -41.67 %\n",
      "SAG            -41.03 %\n",
      "BFLY.WS        -40.86 %\n",
      "NKGNW          -40.65 %\n",
      "SYRS           -40.03 %\n",
      "PRAX           -39.26 %\n",
      "DH             -36.65 %\n",
      "VINC           -36.51 %\n",
      "SAIHW          -36.30 %\n",
      "GDSTW          -36.03 %\n",
      "ICON           -35.86 %\n",
      "DV             -35.71 %\n",
      "ICCT           -35.30 %\n",
      "AMRC           -35.02 %\n",
      "MBIO           -33.58 %\n",
      "SUNE           -32.66 %\n",
      "NVNIW          -32.50 %\n"
     ]
    }
   ],
   "source": [
    "# get gainers\n",
    "gainers = client.get_snapshot_direction(\"stocks\", \"gainers\")\n",
    "# print(gainers)\n",
    "\n",
    "# print ticker with % change\n",
    "for gainer in gainers:\n",
    "    # verify this is a TickerSnapshot\n",
    "    if isinstance(gainer, TickerSnapshot):\n",
    "        # verify this is a float\n",
    "        if isinstance(gainer.todays_change_percent, float):\n",
    "            print(\"{:<15}{:.2f} %\".format(gainer.ticker, gainer.todays_change_percent))\n",
    "\n",
    "print()\n",
    "\n",
    "# get losers\n",
    "losers = client.get_snapshot_direction(\"stocks\", \"losers\")\n",
    "# print(losers)\n",
    "\n",
    "# print ticker with % change\n",
    "for loser in losers:\n",
    "    # verify this is a TickerSnapshot\n",
    "    if isinstance(loser, TickerSnapshot):\n",
    "        # verify this is a float\n",
    "        if isinstance(loser.todays_change_percent, float):\n",
    "            print(\"{:<15}{:.2f} %\".format(loser.ticker, loser.todays_change_percent))\n"
   ]
  },
  {
   "cell_type": "code",
   "execution_count": 25,
   "metadata": {},
   "outputs": [
    {
     "name": "stdout",
     "output_type": "stream",
     "text": [
      "TickerSnapshot(day=Agg(open=236.95, high=242.09, low=230.2, close=241.84, volume=52500888.0, vwap=239.3193, timestamp=None, transactions=None, otc=None), last_quote=None, last_trade=None, min=MinuteSnapshot(accumulated_volume=52500888.0, open=241.72, high=241.8981, low=241.61, close=241.8981, volume=1735, vwap=241.8088, otc=None, timestamp=1740790740000, transactions=14), prev_day=Agg(open=239.41, high=242.46, low=237.06, close=237.3, volume=38720764.0, vwap=239.6332, timestamp=None, transactions=None, otc=None), ticker='AAPL', todays_change=4.598099999999988, todays_change_percent=1.9376738305941794, updated=1740790800000000000, fair_market_value=None)\n"
     ]
    }
   ],
   "source": [
    "ticker = client.get_snapshot_ticker(\"stocks\", \"AAPL\")\n",
    "print(ticker)\n"
   ]
  },
  {
   "cell_type": "code",
   "execution_count": 45,
   "metadata": {},
   "outputs": [
    {
     "name": "stdout",
     "output_type": "stream",
     "text": [
      "count: 5\n",
      "UniversalSnapshot(ticker='AAPL', type='stocks', session=UniversalSnapshotSession(price=241.61, change=-0.23, change_percent=-0.0951, early_trading_change=0, early_trading_change_percent=0, regular_trading_change=0, regular_trading_change_percent=0, late_trading_change=None, late_trading_change_percent=None, open=236.95, close=241.84, high=242.09, low=230.2, previous_close=241.84, volume=52500888.0), last_quote=None, last_trade=None, greeks=None, underlying_asset=None, details=None, break_even_price=None, implied_volatility=None, open_interest=None, market_status='closed', name='Apple Inc.', fair_market_value=None, error=None, message=None)\n",
      "UniversalSnapshot(ticker='O:AAPL230519C00055000', type=None, session=None, last_quote=None, last_trade=None, greeks=None, underlying_asset=None, details=None, break_even_price=None, implied_volatility=None, open_interest=None, market_status=None, name=None, fair_market_value=None, error='NOT_FOUND', message='Ticker not found.')\n",
      "UniversalSnapshot(ticker='DOES_NOT_EXIST', type=None, session=None, last_quote=None, last_trade=None, greeks=None, underlying_asset=None, details=None, break_even_price=None, implied_volatility=None, open_interest=None, market_status=None, name=None, fair_market_value=None, error='NOT_FOUND', message='Ticker not found.')\n",
      "UniversalSnapshot(ticker='X:1INCHUSD', type=None, session=None, last_quote=None, last_trade=None, greeks=None, underlying_asset=None, details=None, break_even_price=None, implied_volatility=None, open_interest=None, market_status=None, name=None, fair_market_value=None, error='NOT_ENTITLED', message='Not entitled to this ticker.')\n",
      "UniversalSnapshot(ticker='C:AEDAUD', type=None, session=None, last_quote=None, last_trade=None, greeks=None, underlying_asset=None, details=None, break_even_price=None, implied_volatility=None, open_interest=None, market_status=None, name=None, fair_market_value=None, error='NOT_ENTITLED', message='Not entitled to this ticker.')\n",
      "count: 51\n",
      "UniversalSnapshot(ticker='AA', type='stocks', session=UniversalSnapshotSession(price=33.2484, change=-0.0016, change_percent=-0.00481, early_trading_change=0, early_trading_change_percent=0, regular_trading_change=0, regular_trading_change_percent=0, late_trading_change=None, late_trading_change_percent=None, open=33, close=33.25, high=33.36, low=32.55, previous_close=33.25, volume=4586439.0), last_quote=None, last_trade=None, greeks=None, underlying_asset=None, details=None, break_even_price=None, implied_volatility=None, open_interest=None, market_status='closed', name='Alcoa Corporation', fair_market_value=None, error=None, message=None)\n",
      "UniversalSnapshot(ticker='AAA', type='stocks', session=UniversalSnapshotSession(price=25.1073, change=0, change_percent=0, early_trading_change=0, early_trading_change_percent=0, regular_trading_change=0, regular_trading_change_percent=0, late_trading_change=None, late_trading_change_percent=None, open=25.1, close=25.1073, high=25.11, low=25.09, previous_close=25.1073, volume=7670), last_quote=None, last_trade=None, greeks=None, underlying_asset=None, details=None, break_even_price=None, implied_volatility=None, open_interest=None, market_status='closed', name='Alternative Access First Priority CLO Bond ETF', fair_market_value=None, error=None, message=None)\n",
      "UniversalSnapshot(ticker='AAAIF', type='stocks', session=UniversalSnapshotSession(price=None, change=None, change_percent=None, early_trading_change=None, early_trading_change_percent=None, regular_trading_change=None, regular_trading_change_percent=None, late_trading_change=None, late_trading_change_percent=None, open=None, close=None, high=None, low=None, previous_close=None, volume=None), last_quote=None, last_trade=None, greeks=None, underlying_asset=None, details=None, break_even_price=None, implied_volatility=None, open_interest=None, market_status='closed', name='ALTERNATIVE INVSTMENT TR', fair_market_value=None, error=None, message=None)\n",
      "UniversalSnapshot(ticker='AAAU', type='stocks', session=UniversalSnapshotSession(price=28.23, change=0, change_percent=0, early_trading_change=0, early_trading_change_percent=0, regular_trading_change=0, regular_trading_change_percent=0, late_trading_change=None, late_trading_change_percent=None, open=28.14, close=28.23, high=28.23, low=27.99, previous_close=28.23, volume=2390006.0), last_quote=None, last_trade=None, greeks=None, underlying_asset=None, details=None, break_even_price=None, implied_volatility=None, open_interest=None, market_status='closed', name='Goldman Sachs Physical Gold ETF Shares', fair_market_value=None, error=None, message=None)\n",
      "UniversalSnapshot(ticker='AABB', type='stocks', session=UniversalSnapshotSession(price=0.0238, change=0, change_percent=0, early_trading_change=0, early_trading_change_percent=0, regular_trading_change=0, regular_trading_change_percent=0, late_trading_change=None, late_trading_change_percent=None, open=0.025, close=0.0238, high=0.025, low=0.0213, previous_close=0.0238, volume=2866111.0), last_quote=None, last_trade=None, greeks=None, underlying_asset=None, details=None, break_even_price=None, implied_volatility=None, open_interest=None, market_status='closed', name='ASIA BROADBAND INC', fair_market_value=None, error=None, message=None)\n",
      "UniversalSnapshot(ticker='AABKF', type='stocks', session=UniversalSnapshotSession(price=None, change=None, change_percent=None, early_trading_change=None, early_trading_change_percent=None, regular_trading_change=None, regular_trading_change_percent=None, late_trading_change=None, late_trading_change_percent=None, open=None, close=None, high=None, low=None, previous_close=None, volume=None), last_quote=None, last_trade=None, greeks=None, underlying_asset=None, details=None, break_even_price=None, implied_volatility=None, open_interest=None, market_status='closed', name='AAREAL BANK AG', fair_market_value=None, error=None, message=None)\n",
      "UniversalSnapshot(ticker='AABVF', type='stocks', session=UniversalSnapshotSession(price=0.02245, change=0, change_percent=0, early_trading_change=0, early_trading_change_percent=0, regular_trading_change=0, regular_trading_change_percent=0, late_trading_change=None, late_trading_change_percent=None, open=0.02245, close=0.02245, high=0.02245, low=0.02245, previous_close=0.02245, volume=800), last_quote=None, last_trade=None, greeks=None, underlying_asset=None, details=None, break_even_price=None, implied_volatility=None, open_interest=None, market_status='closed', name='ABERDEEN INTL INC', fair_market_value=None, error=None, message=None)\n",
      "UniversalSnapshot(ticker='AACAF', type='stocks', session=UniversalSnapshotSession(price=5.8225, change=-0.618, change_percent=-9.6, early_trading_change=0, early_trading_change_percent=0, regular_trading_change=0, regular_trading_change_percent=0, late_trading_change=None, late_trading_change_percent=None, open=6.44, close=6.44, high=6.44, low=6.44, previous_close=6.44, volume=2111), last_quote=None, last_trade=None, greeks=None, underlying_asset=None, details=None, break_even_price=None, implied_volatility=None, open_interest=None, market_status='closed', name='AAC TECHS HLDGS INC ORD', fair_market_value=None, error=None, message=None)\n",
      "UniversalSnapshot(ticker='AACAY', type='stocks', session=UniversalSnapshotSession(price=5.67, change=0, change_percent=0, early_trading_change=0, early_trading_change_percent=0, regular_trading_change=0, regular_trading_change_percent=0, late_trading_change=None, late_trading_change_percent=None, open=5.715, close=5.67, high=5.77, low=5.59, previous_close=5.67, volume=10396), last_quote=None, last_trade=None, greeks=None, underlying_asset=None, details=None, break_even_price=None, implied_volatility=None, open_interest=None, market_status='closed', name='AAC TECHS HLDGS UNSP/ADR', fair_market_value=None, error=None, message=None)\n",
      "UniversalSnapshot(ticker='AACBU', type='stocks', session=UniversalSnapshotSession(price=10.04, change=0, change_percent=0, early_trading_change=0, early_trading_change_percent=0, regular_trading_change=0, regular_trading_change_percent=0, late_trading_change=None, late_trading_change_percent=None, open=10.03, close=10.04, high=10.04, low=10.03, previous_close=10.04, volume=1190), last_quote=None, last_trade=None, greeks=None, underlying_asset=None, details=None, break_even_price=None, implied_volatility=None, open_interest=None, market_status='closed', name='Artius II Acquisition Inc. Units', fair_market_value=None, error=None, message=None)\n",
      "UniversalSnapshot(ticker='AACG', type='stocks', session=UniversalSnapshotSession(price=0.829, change=-0.0005, change_percent=-0.0603, early_trading_change=0, early_trading_change_percent=0, regular_trading_change=0, regular_trading_change_percent=0, late_trading_change=None, late_trading_change_percent=None, open=0.86, close=0.8295, high=0.86, low=0.82, previous_close=0.8295, volume=10885), last_quote=None, last_trade=None, greeks=None, underlying_asset=None, details=None, break_even_price=None, implied_volatility=None, open_interest=None, market_status='closed', name='ATA Creativity Global American Depositary Shares', fair_market_value=None, error=None, message=None)\n",
      "UniversalSnapshot(ticker='AACS', type='stocks', session=UniversalSnapshotSession(price=1e-06, change=0, change_percent=0, early_trading_change=0, early_trading_change_percent=0, regular_trading_change=0, regular_trading_change_percent=0, late_trading_change=None, late_trading_change_percent=None, open=1e-06, close=1e-06, high=1e-06, low=1e-06, previous_close=1e-06, volume=2500), last_quote=None, last_trade=None, greeks=None, underlying_asset=None, details=None, break_even_price=None, implied_volatility=None, open_interest=None, market_status='closed', name='AMER COMMERCE SOLTNS INC', fair_market_value=None, error=None, message=None)\n",
      "UniversalSnapshot(ticker='AACT', type='stocks', session=UniversalSnapshotSession(price=11.07, change=0, change_percent=0, early_trading_change=0, early_trading_change_percent=0, regular_trading_change=0, regular_trading_change_percent=0, late_trading_change=None, late_trading_change_percent=None, open=11.0735, close=11.07, high=11.08, low=11.0699, previous_close=11.07, volume=2501), last_quote=None, last_trade=None, greeks=None, underlying_asset=None, details=None, break_even_price=None, implied_volatility=None, open_interest=None, market_status='closed', name='Ares Acquisition Corporation II', fair_market_value=None, error=None, message=None)\n",
      "UniversalSnapshot(ticker='AACT.U', type='stocks', session=UniversalSnapshotSession(price=10.9037, change=-0.436, change_percent=-3.84, early_trading_change=0, early_trading_change_percent=0, regular_trading_change=0, regular_trading_change_percent=0, late_trading_change=None, late_trading_change_percent=None, open=11.19, close=11.34, high=11.34, low=11.19, previous_close=11.34, volume=438), last_quote=None, last_trade=None, greeks=None, underlying_asset=None, details=None, break_even_price=None, implied_volatility=None, open_interest=None, market_status='closed', name='Ares Acquisition Corporation II Units, each consisting of one Class A ordinary share and one-half of one redeemable warrant', fair_market_value=None, error=None, message=None)\n",
      "UniversalSnapshot(ticker='AACT.WS', type='stocks', session=UniversalSnapshotSession(price=0.12, change=0, change_percent=0, early_trading_change=0, early_trading_change_percent=0, regular_trading_change=0, regular_trading_change_percent=0, late_trading_change=None, late_trading_change_percent=None, open=0.107, close=0.12, high=0.12, low=0.096, previous_close=0.12, volume=21354), last_quote=None, last_trade=None, greeks=None, underlying_asset=None, details=None, break_even_price=None, implied_volatility=None, open_interest=None, market_status='closed', name='Ares Acquisition Corporation II Redeemable Warrants, each whole warrant exercisable for one Class A ordinary share at an exercise price of $11.50', fair_market_value=None, error=None, message=None)\n",
      "UniversalSnapshot(ticker='AACTF', type='stocks', session=UniversalSnapshotSession(price=0.01685, change=0, change_percent=0, early_trading_change=0, early_trading_change_percent=0, regular_trading_change=0, regular_trading_change_percent=0, late_trading_change=None, late_trading_change_percent=None, open=0.01685, close=0.01685, high=0.01685, low=0.01685, previous_close=0.01685, volume=100), last_quote=None, last_trade=None, greeks=None, underlying_asset=None, details=None, break_even_price=None, implied_volatility=None, open_interest=None, market_status='closed', name='AURORA SOLAR TECHNOLOGIES', fair_market_value=None, error=None, message=None)\n",
      "UniversalSnapshot(ticker='AADI', type='stocks', session=UniversalSnapshotSession(price=2.56, change=0, change_percent=0, early_trading_change=0, early_trading_change_percent=0, regular_trading_change=0, regular_trading_change_percent=0, late_trading_change=None, late_trading_change_percent=None, open=2.55, close=2.56, high=2.635, low=2.53, previous_close=2.56, volume=80913), last_quote=None, last_trade=None, greeks=None, underlying_asset=None, details=None, break_even_price=None, implied_volatility=None, open_interest=None, market_status='closed', name='Aadi Bioscience, Inc. Common Stock', fair_market_value=None, error=None, message=None)\n",
      "UniversalSnapshot(ticker='AADR', type='stocks', session=UniversalSnapshotSession(price=74.81, change=0, change_percent=0, early_trading_change=0, early_trading_change_percent=0, regular_trading_change=0, regular_trading_change_percent=0, late_trading_change=None, late_trading_change_percent=None, open=74.01, close=74.81, high=74.8764, low=72.61, previous_close=74.81, volume=4537), last_quote=None, last_trade=None, greeks=None, underlying_asset=None, details=None, break_even_price=None, implied_volatility=None, open_interest=None, market_status='closed', name='AdvisorShares Dorsey Wright ADR ETF', fair_market_value=None, error=None, message=None)\n",
      "UniversalSnapshot(ticker='AAFRF', type='stocks', session=UniversalSnapshotSession(price=1.65, change=0.04, change_percent=2.484, early_trading_change=0, early_trading_change_percent=0, regular_trading_change=0, regular_trading_change_percent=0, late_trading_change=None, late_trading_change_percent=None, open=1.61, close=1.61, high=1.61, low=1.61, previous_close=1.61, volume=24444), last_quote=None, last_trade=None, greeks=None, underlying_asset=None, details=None, break_even_price=None, implied_volatility=None, open_interest=None, market_status='closed', name='AIRTEL AFRICA PLC', fair_market_value=None, error=None, message=None)\n",
      "UniversalSnapshot(ticker='AAGC', type='stocks', session=UniversalSnapshotSession(price=0.0012, change=0, change_percent=0, early_trading_change=0, early_trading_change_percent=0, regular_trading_change=0, regular_trading_change_percent=0, late_trading_change=None, late_trading_change_percent=None, open=0.0011, close=0.0012, high=0.0012, low=0.0011, previous_close=0.0012, volume=706000), last_quote=None, last_trade=None, greeks=None, underlying_asset=None, details=None, break_even_price=None, implied_volatility=None, open_interest=None, market_status='closed', name='ALL AMERICAN GOLD CORP', fair_market_value=None, error=None, message=None)\n",
      "UniversalSnapshot(ticker='AAGFF', type='stocks', session=UniversalSnapshotSession(price=0.335, change=0, change_percent=0, early_trading_change=0, early_trading_change_percent=0, regular_trading_change=0, regular_trading_change_percent=0, late_trading_change=None, late_trading_change_percent=None, open=0.31605, close=0.335, high=0.335, low=0.3104, previous_close=0.335, volume=357000), last_quote=None, last_trade=None, greeks=None, underlying_asset=None, details=None, break_even_price=None, implied_volatility=None, open_interest=None, market_status='closed', name='AFTERMATH SILVER LTD ORD', fair_market_value=None, error=None, message=None)\n",
      "UniversalSnapshot(ticker='AAGH', type='stocks', session=UniversalSnapshotSession(price=0.0005, change=0, change_percent=0, early_trading_change=0, early_trading_change_percent=0, regular_trading_change=0, regular_trading_change_percent=0, late_trading_change=None, late_trading_change_percent=None, open=0.0005, close=0.0005, high=0.0005, low=0.0005, previous_close=0.0005, volume=441745), last_quote=None, last_trade=None, greeks=None, underlying_asset=None, details=None, break_even_price=None, implied_volatility=None, open_interest=None, market_status='closed', name='AMERICA GREAT HEALTH', fair_market_value=None, error=None, message=None)\n",
      "UniversalSnapshot(ticker='AAGIY', type='stocks', session=UniversalSnapshotSession(price=30.72, change=0, change_percent=0, early_trading_change=0, early_trading_change_percent=0, regular_trading_change=0, regular_trading_change_percent=0, late_trading_change=None, late_trading_change_percent=None, open=30.5, close=30.72, high=30.79, low=30.48, previous_close=30.72, volume=321991), last_quote=None, last_trade=None, greeks=None, underlying_asset=None, details=None, break_even_price=None, implied_volatility=None, open_interest=None, market_status='closed', name='AIA GROUP LTD S/ADR', fair_market_value=None, error=None, message=None)\n",
      "UniversalSnapshot(ticker='AAGR', type='stocks', session=UniversalSnapshotSession(price=1e-06, change=0, change_percent=0, early_trading_change=0, early_trading_change_percent=0, regular_trading_change=0, regular_trading_change_percent=0, late_trading_change=None, late_trading_change_percent=None, open=1e-06, close=1e-06, high=0.008, low=1e-06, previous_close=1e-06, volume=226), last_quote=None, last_trade=None, greeks=None, underlying_asset=None, details=None, break_even_price=None, implied_volatility=None, open_interest=None, market_status='closed', name='AFRICAN AGRI HLDGS INC', fair_market_value=None, error=None, message=None)\n",
      "UniversalSnapshot(ticker='AAGRW', type='stocks', session=UniversalSnapshotSession(price=1e-06, change=0, change_percent=0, early_trading_change=0, early_trading_change_percent=0, regular_trading_change=0, regular_trading_change_percent=0, late_trading_change=None, late_trading_change_percent=None, open=1e-06, close=1e-06, high=1e-06, low=1e-06, previous_close=1e-06, volume=334), last_quote=None, last_trade=None, greeks=None, underlying_asset=None, details=None, break_even_price=None, implied_volatility=None, open_interest=None, market_status='closed', name='AFRICAN AGRI HLDGS WTS', fair_market_value=None, error=None, message=None)\n",
      "UniversalSnapshot(ticker='AAGRY', type='stocks', session=UniversalSnapshotSession(price=1.7, change=0, change_percent=0, early_trading_change=0, early_trading_change_percent=0, regular_trading_change=0, regular_trading_change_percent=0, late_trading_change=None, late_trading_change_percent=None, open=1.7, close=1.7, high=1.7, low=1.7, previous_close=1.7, volume=100), last_quote=None, last_trade=None, greeks=None, underlying_asset=None, details=None, break_even_price=None, implied_volatility=None, open_interest=None, market_status='closed', name='ASTRA AGRO LESTR UNSP/ADR', fair_market_value=None, error=None, message=None)\n",
      "UniversalSnapshot(ticker='AAHIF', type='stocks', session=UniversalSnapshotSession(price=10.15, change=2.16, change_percent=27.034, early_trading_change=0, early_trading_change_percent=0, regular_trading_change=0, regular_trading_change_percent=0, late_trading_change=None, late_trading_change_percent=None, open=7.99, close=7.99, high=7.99, low=7.99, previous_close=7.99, volume=1500), last_quote=None, last_trade=None, greeks=None, underlying_asset=None, details=None, break_even_price=None, implied_volatility=None, open_interest=None, market_status='closed', name='ASAHI CO LTD ORD', fair_market_value=None, error=None, message=None)\n",
      "UniversalSnapshot(ticker='AAIGF', type='stocks', session=UniversalSnapshotSession(price=7.358, change=-0.564, change_percent=-7.12, early_trading_change=0, early_trading_change_percent=0, regular_trading_change=0, regular_trading_change_percent=0, late_trading_change=None, late_trading_change_percent=None, open=7.932, close=7.922, high=7.932, low=7.358, previous_close=7.922, volume=21196), last_quote=None, last_trade=None, greeks=None, underlying_asset=None, details=None, break_even_price=None, implied_volatility=None, open_interest=None, market_status='closed', name='AIA GROUP LTD ORD', fair_market_value=None, error=None, message=None)\n",
      "UniversalSnapshot(ticker='AAIIQ', type='stocks', session=UniversalSnapshotSession(price=1e-06, change=0, change_percent=0, early_trading_change=0, early_trading_change_percent=0, regular_trading_change=0, regular_trading_change_percent=0, late_trading_change=None, late_trading_change_percent=None, open=1e-06, close=1e-06, high=1e-06, low=1e-06, previous_close=1e-06, volume=1000), last_quote=None, last_trade=None, greeks=None, underlying_asset=None, details=None, break_even_price=None, implied_volatility=None, open_interest=None, market_status='closed', name='ALABAMA AIRCRAFT INDUS', fair_market_value=None, error=None, message=None)\n",
      "UniversalSnapshot(ticker='AAIRF', type='stocks', session=UniversalSnapshotSession(price=0.13535, change=0, change_percent=0, early_trading_change=0, early_trading_change_percent=0, regular_trading_change=0, regular_trading_change_percent=0, late_trading_change=None, late_trading_change_percent=None, open=0.14075, close=0.13535, high=0.1424, low=0.13535, previous_close=0.13535, volume=7675), last_quote=None, last_trade=None, greeks=None, underlying_asset=None, details=None, break_even_price=None, implied_volatility=None, open_interest=None, market_status='closed', name='AMERICAN AIRES INC', fair_market_value=None, error=None, message=None)\n",
      "UniversalSnapshot(ticker='AAKAY', type='stocks', session=UniversalSnapshotSession(price=None, change=None, change_percent=None, early_trading_change=None, early_trading_change_percent=None, regular_trading_change=None, regular_trading_change_percent=None, late_trading_change=None, late_trading_change_percent=None, open=None, close=None, high=None, low=None, previous_close=None, volume=None), last_quote=None, last_trade=None, greeks=None, underlying_asset=None, details=None, break_even_price=None, implied_volatility=None, open_interest=None, market_status='closed', name='AAK AB UNSP/ADR', fair_market_value=None, error=None, message=None)\n",
      "UniversalSnapshot(ticker='AAL', type='stocks', session=UniversalSnapshotSession(price=14.36, change=0.01, change_percent=0.0697, early_trading_change=0, early_trading_change_percent=0, regular_trading_change=0, regular_trading_change_percent=0, late_trading_change=None, late_trading_change_percent=None, open=14.565, close=14.35, high=14.7499, low=14.27, previous_close=14.35, volume=49194960.0), last_quote=None, last_trade=None, greeks=None, underlying_asset=None, details=None, break_even_price=None, implied_volatility=None, open_interest=None, market_status='closed', name='American Airlines Group Inc.', fair_market_value=None, error=None, message=None)\n",
      "UniversalSnapshot(ticker='AALBF', type='stocks', session=UniversalSnapshotSession(price=33.345, change=0, change_percent=0, early_trading_change=0, early_trading_change_percent=0, regular_trading_change=0, regular_trading_change_percent=0, late_trading_change=None, late_trading_change_percent=None, open=33.345, close=33.345, high=33.345, low=33.345, previous_close=33.345, volume=114), last_quote=None, last_trade=None, greeks=None, underlying_asset=None, details=None, break_even_price=None, implied_volatility=None, open_interest=None, market_status='closed', name='AALBERTS INDUS NV ORD', fair_market_value=None, error=None, message=None)\n",
      "UniversalSnapshot(ticker='AAM', type='stocks', session=UniversalSnapshotSession(price=10.21, change=0, change_percent=0, early_trading_change=0, early_trading_change_percent=0, regular_trading_change=0, regular_trading_change_percent=0, late_trading_change=None, late_trading_change_percent=None, open=10.18, close=10.21, high=10.22, low=10.18, previous_close=10.21, volume=3527), last_quote=None, last_trade=None, greeks=None, underlying_asset=None, details=None, break_even_price=None, implied_volatility=None, open_interest=None, market_status='closed', name='AA Mission Acquisition Corp.', fair_market_value=None, error=None, message=None)\n",
      "UniversalSnapshot(ticker='AAM.U', type='stocks', session=UniversalSnapshotSession(price=10.2, change=-0.48, change_percent=-4.49, early_trading_change=0, early_trading_change_percent=0, regular_trading_change=0, regular_trading_change_percent=0, late_trading_change=None, late_trading_change_percent=None, open=10.68, close=10.68, high=10.68, low=10.68, previous_close=10.68, volume=198), last_quote=None, last_trade=None, greeks=None, underlying_asset=None, details=None, break_even_price=None, implied_volatility=None, open_interest=None, market_status='closed', name='AA Mission Acquisition Corp. Units, each consisting of one Class A Ordinary Share and one-half of one redeemable warrant', fair_market_value=None, error=None, message=None)\n",
      "UniversalSnapshot(ticker='AAM.WS', type='stocks', session=UniversalSnapshotSession(price=0.07, change=0, change_percent=0, early_trading_change=0, early_trading_change_percent=0, regular_trading_change=0, regular_trading_change_percent=0, late_trading_change=None, late_trading_change_percent=None, open=0.0748, close=0.07, high=0.088798, low=0.07, previous_close=0.07, volume=11003), last_quote=None, last_trade=None, greeks=None, underlying_asset=None, details=None, break_even_price=None, implied_volatility=None, open_interest=None, market_status='closed', name='AA Mission Acquisition Corp. Warrants, each whole warrant entitles the holder to purchase one Class A ordinary share at a price of $11.50 per share', fair_market_value=None, error=None, message=None)\n",
      "UniversalSnapshot(ticker='AAMAF', type='stocks', session=UniversalSnapshotSession(price=1e-06, change=0, change_percent=0, early_trading_change=0, early_trading_change_percent=0, regular_trading_change=0, regular_trading_change_percent=0, late_trading_change=None, late_trading_change_percent=None, open=1e-06, close=1e-06, high=1e-06, low=1e-06, previous_close=1e-06, volume=2000), last_quote=None, last_trade=None, greeks=None, underlying_asset=None, details=None, break_even_price=None, implied_volatility=None, open_interest=None, market_status='closed', name='ATLAS MARA CO NVEST ORD', fair_market_value=None, error=None, message=None)\n",
      "UniversalSnapshot(ticker='AAMCF', type='stocks', session=UniversalSnapshotSession(price=0.5, change=0, change_percent=0, early_trading_change=0, early_trading_change_percent=0, regular_trading_change=0, regular_trading_change_percent=0, late_trading_change=None, late_trading_change_percent=None, open=0.5, close=0.5, high=0.5, low=0.5, previous_close=0.5, volume=5375), last_quote=None, last_trade=None, greeks=None, underlying_asset=None, details=None, break_even_price=None, implied_volatility=None, open_interest=None, market_status='closed', name='ALTISOURCE ASSET MGMT', fair_market_value=None, error=None, message=None)\n",
      "UniversalSnapshot(ticker='AAME', type='stocks', session=UniversalSnapshotSession(price=1.5, change=-0.04, change_percent=-2.6, early_trading_change=0, early_trading_change_percent=0, regular_trading_change=0, regular_trading_change_percent=0, late_trading_change=None, late_trading_change_percent=None, open=1.54, close=1.54, high=1.54, low=1.54, previous_close=1.54, volume=827), last_quote=None, last_trade=None, greeks=None, underlying_asset=None, details=None, break_even_price=None, implied_volatility=None, open_interest=None, market_status='closed', name='Atlantic American Corp', fair_market_value=None, error=None, message=None)\n",
      "UniversalSnapshot(ticker='AAMI', type='stocks', session=UniversalSnapshotSession(price=24.66, change=0, change_percent=0, early_trading_change=0, early_trading_change_percent=0, regular_trading_change=0, regular_trading_change_percent=0, late_trading_change=None, late_trading_change_percent=None, open=24.51, close=24.66, high=25, low=24.39, previous_close=24.66, volume=167159), last_quote=None, last_trade=None, greeks=None, underlying_asset=None, details=None, break_even_price=None, implied_volatility=None, open_interest=None, market_status='closed', name='Acadian Asset Management Inc.', fair_market_value=None, error=None, message=None)\n",
      "UniversalSnapshot(ticker='AAMMF', type='stocks', session=UniversalSnapshotSession(price=0.15605, change=0, change_percent=0, early_trading_change=0, early_trading_change_percent=0, regular_trading_change=0, regular_trading_change_percent=0, late_trading_change=None, late_trading_change_percent=None, open=0.1576, close=0.15605, high=0.1576, low=0.15605, previous_close=0.15605, volume=3330), last_quote=None, last_trade=None, greeks=None, underlying_asset=None, details=None, break_even_price=None, implied_volatility=None, open_interest=None, market_status='closed', name='ALMADEX MINERALS LTD', fair_market_value=None, error=None, message=None)\n",
      "UniversalSnapshot(ticker='AAMTF', type='stocks', session=UniversalSnapshotSession(price=0.22, change=0, change_percent=0, early_trading_change=0, early_trading_change_percent=0, regular_trading_change=0, regular_trading_change_percent=0, late_trading_change=None, late_trading_change_percent=None, open=0.22, close=0.22, high=0.22, low=0.22, previous_close=0.22, volume=1000), last_quote=None, last_trade=None, greeks=None, underlying_asset=None, details=None, break_even_price=None, implied_volatility=None, open_interest=None, market_status='closed', name='ARMADA MERCANTILE LTD', fair_market_value=None, error=None, message=None)\n",
      "UniversalSnapshot(ticker='AANNF', type='stocks', session=UniversalSnapshotSession(price=2.84, change=0, change_percent=0, early_trading_change=0, early_trading_change_percent=0, regular_trading_change=0, regular_trading_change_percent=0, late_trading_change=None, late_trading_change_percent=None, open=2.84, close=2.84, high=2.84, low=2.84, previous_close=2.84, volume=1000), last_quote=None, last_trade=None, greeks=None, underlying_asset=None, details=None, break_even_price=None, implied_volatility=None, open_interest=None, market_status='closed', name='AROUNDTOWN SA ORD', fair_market_value=None, error=None, message=None)\n",
      "UniversalSnapshot(ticker='AAOI', type='stocks', session=UniversalSnapshotSession(price=21.9582, change=0.0982, change_percent=0.449, early_trading_change=0, early_trading_change_percent=0, regular_trading_change=0, regular_trading_change_percent=0, late_trading_change=None, late_trading_change_percent=None, open=23.288, close=21.86, high=23.5, low=20.35, previous_close=21.86, volume=5770366.0), last_quote=None, last_trade=None, greeks=None, underlying_asset=None, details=None, break_even_price=None, implied_volatility=None, open_interest=None, market_status='closed', name='Applied Optoelectronics, Inc.', fair_market_value=None, error=None, message=None)\n",
      "UniversalSnapshot(ticker='AAON', type='stocks', session=UniversalSnapshotSession(price=78, change=1.2, change_percent=1.563, early_trading_change=0, early_trading_change_percent=0, regular_trading_change=0, regular_trading_change_percent=0, late_trading_change=None, late_trading_change_percent=None, open=78.64, close=76.8, high=79.265, low=73.11, previous_close=76.8, volume=2487747.0), last_quote=None, last_trade=None, greeks=None, underlying_asset=None, details=None, break_even_price=None, implied_volatility=None, open_interest=None, market_status='closed', name='Aaon Inc', fair_market_value=None, error=None, message=None)\n",
      "UniversalSnapshot(ticker='AAP', type='stocks', session=UniversalSnapshotSession(price=36.8899, change=-0.0101, change_percent=-0.0274, early_trading_change=0, early_trading_change_percent=0, regular_trading_change=0, regular_trading_change_percent=0, late_trading_change=None, late_trading_change_percent=None, open=37, close=36.9, high=38.08, low=36.17, previous_close=36.9, volume=3121889.0), last_quote=None, last_trade=None, greeks=None, underlying_asset=None, details=None, break_even_price=None, implied_volatility=None, open_interest=None, market_status='closed', name='ADVANCE AUTO PARTS INC', fair_market_value=None, error=None, message=None)\n",
      "UniversalSnapshot(ticker='AAPB', type='stocks', session=UniversalSnapshotSession(price=30.8999, change=0.11, change_percent=0.357, early_trading_change=0, early_trading_change_percent=0, regular_trading_change=0, regular_trading_change_percent=0, late_trading_change=None, late_trading_change_percent=None, open=29.54, close=30.79, high=30.79, low=29, previous_close=30.79, volume=89749), last_quote=None, last_trade=None, greeks=None, underlying_asset=None, details=None, break_even_price=None, implied_volatility=None, open_interest=None, market_status='closed', name='GraniteShares ETF Trust GraniteShares 2x Long AAPL Daily ETF', fair_market_value=None, error=None, message=None)\n",
      "UniversalSnapshot(ticker='AAPD', type='stocks', session=UniversalSnapshotSession(price=16.1499, change=0.36, change_percent=2.28, early_trading_change=0, early_trading_change_percent=0, regular_trading_change=0, regular_trading_change_percent=0, late_trading_change=None, late_trading_change_percent=None, open=16.12, close=15.79, high=16.27, low=15.775, previous_close=15.79, volume=1127450.0), last_quote=None, last_trade=None, greeks=None, underlying_asset=None, details=None, break_even_price=None, implied_volatility=None, open_interest=None, market_status='closed', name='Direxion Daily AAPL Bear 1X Shares', fair_market_value=None, error=None, message=None)\n",
      "UniversalSnapshot(ticker='AAPG', type='stocks', session=UniversalSnapshotSession(price=19.1, change=0.07, change_percent=0.368, early_trading_change=0, early_trading_change_percent=0, regular_trading_change=0, regular_trading_change_percent=0, late_trading_change=None, late_trading_change_percent=None, open=18.45, close=19.03, high=19.11, low=18.45, previous_close=19.03, volume=43821), last_quote=None, last_trade=None, greeks=None, underlying_asset=None, details=None, break_even_price=None, implied_volatility=None, open_interest=None, market_status='closed', name='Ascentage Pharma Group International American Depository Shares', fair_market_value=None, error=None, message=None)\n",
      "UniversalSnapshot(ticker='AAPI', type='stocks', session=UniversalSnapshotSession(price=6.8, change=0, change_percent=0, early_trading_change=0, early_trading_change_percent=0, regular_trading_change=0, regular_trading_change_percent=0, late_trading_change=None, late_trading_change_percent=None, open=6.79, close=6.8, high=6.8, low=6.79, previous_close=6.8, volume=500), last_quote=None, last_trade=None, greeks=None, underlying_asset=None, details=None, break_even_price=None, implied_volatility=None, open_interest=None, market_status='closed', name='APPLE ISPORTS GROUP INC', fair_market_value=None, error=None, message=None)\n",
      "UniversalSnapshot(ticker='AAPJ', type='stocks', session=UniversalSnapshotSession(price=0.00015, change=0, change_percent=0, early_trading_change=0, early_trading_change_percent=0, regular_trading_change=0, regular_trading_change_percent=0, late_trading_change=None, late_trading_change_percent=None, open=0.00015, close=0.00015, high=0.00015, low=0.00015, previous_close=0.00015, volume=5000000.0), last_quote=None, last_trade=None, greeks=None, underlying_asset=None, details=None, break_even_price=None, implied_volatility=None, open_interest=None, market_status='closed', name='AAP INC', fair_market_value=None, error=None, message=None)\n",
      "count: 37\n",
      "UniversalSnapshot(ticker='AAPL', type='stocks', session=UniversalSnapshotSession(price=241.61, change=-0.23, change_percent=-0.0951, early_trading_change=0, early_trading_change_percent=0, regular_trading_change=0, regular_trading_change_percent=0, late_trading_change=None, late_trading_change_percent=None, open=236.95, close=241.84, high=242.09, low=230.2, previous_close=241.84, volume=52500888.0), last_quote=None, last_trade=None, greeks=None, underlying_asset=None, details=None, break_even_price=None, implied_volatility=None, open_interest=None, market_status='closed', name='Apple Inc.', fair_market_value=None, error=None, message=None)\n",
      "UniversalSnapshot(ticker='AAPR', type='stocks', session=UniversalSnapshotSession(price=26.57, change=0, change_percent=0, early_trading_change=0, early_trading_change_percent=0, regular_trading_change=0, regular_trading_change_percent=0, late_trading_change=None, late_trading_change_percent=None, open=26.5, close=26.57, high=26.57, low=26.42, previous_close=26.57, volume=38295), last_quote=None, last_trade=None, greeks=None, underlying_asset=None, details=None, break_even_price=None, implied_volatility=None, open_interest=None, market_status='closed', name='Innovator Equity Defined Protection ETF - 2 Yr to April 2026', fair_market_value=None, error=None, message=None)\n",
      "UniversalSnapshot(ticker='AAPT', type='stocks', session=UniversalSnapshotSession(price=1e-06, change=0, change_percent=0, early_trading_change=0, early_trading_change_percent=0, regular_trading_change=0, regular_trading_change_percent=0, late_trading_change=None, late_trading_change_percent=None, open=1e-06, close=1e-06, high=1e-06, low=1e-06, previous_close=1e-06, volume=50000), last_quote=None, last_trade=None, greeks=None, underlying_asset=None, details=None, break_even_price=None, implied_volatility=None, open_interest=None, market_status='closed', name='ALL AMERICAN PET CO INC', fair_market_value=None, error=None, message=None)\n",
      "UniversalSnapshot(ticker='AAPU', type='stocks', session=UniversalSnapshotSession(price=34.2, change=0.06, change_percent=0.176, early_trading_change=0, early_trading_change_percent=0, regular_trading_change=0, regular_trading_change_percent=0, late_trading_change=None, late_trading_change_percent=None, open=32.77, close=34.14, high=34.22, low=32.181, previous_close=34.14, volume=524629), last_quote=None, last_trade=None, greeks=None, underlying_asset=None, details=None, break_even_price=None, implied_volatility=None, open_interest=None, market_status='closed', name='Direxion Shares ETF Trust Direxion Daily AAPL Bull 2X Shares', fair_market_value=None, error=None, message=None)\n",
      "UniversalSnapshot(ticker='AAPW', type='stocks', session=UniversalSnapshotSession(price=49.3735, change=0, change_percent=0, early_trading_change=0, early_trading_change_percent=0, regular_trading_change=0, regular_trading_change_percent=0, late_trading_change=None, late_trading_change_percent=None, open=47.92, close=49.3735, high=49.3735, low=47.92, previous_close=49.3735, volume=6366), last_quote=None, last_trade=None, greeks=None, underlying_asset=None, details=None, break_even_price=None, implied_volatility=None, open_interest=None, market_status='closed', name='Roundhill AAPL WeeklyPay ETF', fair_market_value=None, error=None, message=None)\n",
      "UniversalSnapshot(ticker='AAPX', type='stocks', session=UniversalSnapshotSession(price=29.2, change=0, change_percent=0, early_trading_change=0, early_trading_change_percent=0, regular_trading_change=0, regular_trading_change_percent=0, late_trading_change=None, late_trading_change_percent=None, open=28.02, close=29.2, high=29.2059, low=27.55, previous_close=29.2, volume=55871), last_quote=None, last_trade=None, greeks=None, underlying_asset=None, details=None, break_even_price=None, implied_volatility=None, open_interest=None, market_status='closed', name='T-Rex 2X Long Apple Daily Target ETF', fair_market_value=None, error=None, message=None)\n",
      "UniversalSnapshot(ticker='AAPY', type='stocks', session=UniversalSnapshotSession(price=25.6305, change=0, change_percent=0, early_trading_change=0, early_trading_change_percent=0, regular_trading_change=0, regular_trading_change_percent=0, late_trading_change=None, late_trading_change_percent=None, open=25.05, close=25.6305, high=25.6305, low=25.05, previous_close=25.6305, volume=5035), last_quote=None, last_trade=None, greeks=None, underlying_asset=None, details=None, break_even_price=None, implied_volatility=None, open_interest=None, market_status='closed', name='Kurv Yield Premium Strategy Apple (AAPL) ETF', fair_market_value=None, error=None, message=None)\n",
      "UniversalSnapshot(ticker='AAQL', type='stocks', session=UniversalSnapshotSession(price=0.55, change=-0.448, change_percent=-44.9, early_trading_change=0, early_trading_change_percent=0, regular_trading_change=0, regular_trading_change_percent=0, late_trading_change=None, late_trading_change_percent=None, open=0.998, close=0.998, high=0.998, low=0.998, previous_close=0.998, volume=191), last_quote=None, last_trade=None, greeks=None, underlying_asset=None, details=None, break_even_price=None, implied_volatility=None, open_interest=None, market_status='closed', name='ANTIAGING QNTUM LGN A', fair_market_value=None, error=None, message=None)\n",
      "UniversalSnapshot(ticker='AARD', type='stocks', session=UniversalSnapshotSession(price=13.36, change=0.63, change_percent=4.949, early_trading_change=0, early_trading_change_percent=0, regular_trading_change=0, regular_trading_change_percent=0, late_trading_change=None, late_trading_change_percent=None, open=13.2, close=12.73, high=13.94, low=12.32, previous_close=12.73, volume=78372), last_quote=None, last_trade=None, greeks=None, underlying_asset=None, details=None, break_even_price=None, implied_volatility=None, open_interest=None, market_status='closed', name='Aardvark Therapeutics, Inc. Common Stock', fair_market_value=None, error=None, message=None)\n",
      "UniversalSnapshot(ticker='AARTY', type='stocks', session=UniversalSnapshotSession(price=18.3288, change=3.259, change_percent=21.626, early_trading_change=0, early_trading_change_percent=0, regular_trading_change=0, regular_trading_change_percent=0, late_trading_change=None, late_trading_change_percent=None, open=15.07, close=15.07, high=15.07, low=15.07, previous_close=15.07, volume=100), last_quote=None, last_trade=None, greeks=None, underlying_asset=None, details=None, break_even_price=None, implied_volatility=None, open_interest=None, market_status='closed', name='AIRTEL AFRICA PLC ADR', fair_market_value=None, error=None, message=None)\n",
      "UniversalSnapshot(ticker='AASCF', type='stocks', session=UniversalSnapshotSession(price=3.544, change=None, change_percent=None, early_trading_change=None, early_trading_change_percent=None, regular_trading_change=None, regular_trading_change_percent=None, late_trading_change=None, late_trading_change_percent=None, open=None, close=None, high=None, low=None, previous_close=None, volume=None), last_quote=None, last_trade=None, greeks=None, underlying_asset=None, details=None, break_even_price=None, implied_volatility=None, open_interest=None, market_status='closed', name='ABERDEEN ASIAN SMALLR COS', fair_market_value=None, error=None, message=None)\n",
      "UniversalSnapshot(ticker='AASLF', type='stocks', session=UniversalSnapshotSession(price=6.883624, change=None, change_percent=None, early_trading_change=None, early_trading_change_percent=None, regular_trading_change=None, regular_trading_change_percent=None, late_trading_change=None, late_trading_change_percent=None, open=None, close=None, high=None, low=None, previous_close=None, volume=None), last_quote=None, last_trade=None, greeks=None, underlying_asset=None, details=None, break_even_price=None, implied_volatility=None, open_interest=None, market_status='closed', name='ASIA AIR SURVEY CO LTD', fair_market_value=None, error=None, message=None)\n",
      "UniversalSnapshot(ticker='AASP', type='stocks', session=UniversalSnapshotSession(price=2.34, change=-0.13, change_percent=-5.26, early_trading_change=0, early_trading_change_percent=0, regular_trading_change=0, regular_trading_change_percent=0, late_trading_change=None, late_trading_change_percent=None, open=2.47, close=2.47, high=2.47, low=2.47, previous_close=2.47, volume=780), last_quote=None, last_trade=None, greeks=None, underlying_asset=None, details=None, break_even_price=None, implied_volatility=None, open_interest=None, market_status='closed', name='GLOBAL ACQUISITIONS CORP', fair_market_value=None, error=None, message=None)\n",
      "UniversalSnapshot(ticker='AASZF', type='stocks', session=UniversalSnapshotSession(price=0.7, change=0, change_percent=0, early_trading_change=0, early_trading_change_percent=0, regular_trading_change=0, regular_trading_change_percent=0, late_trading_change=None, late_trading_change_percent=None, open=0.5146, close=0.7, high=0.725, low=0.5146, previous_close=0.7, volume=4531), last_quote=None, last_trade=None, greeks=None, underlying_asset=None, details=None, break_even_price=None, implied_volatility=None, open_interest=None, market_status='closed', name='ATLANTIC SAPPHIRE AS', fair_market_value=None, error=None, message=None)\n",
      "UniversalSnapshot(ticker='AAT', type='stocks', session=UniversalSnapshotSession(price=22.46, change=0, change_percent=0, early_trading_change=0, early_trading_change_percent=0, regular_trading_change=0, regular_trading_change_percent=0, late_trading_change=None, late_trading_change_percent=None, open=22.5, close=22.46, high=22.59, low=22.25, previous_close=22.46, volume=446342), last_quote=None, last_trade=None, greeks=None, underlying_asset=None, details=None, break_even_price=None, implied_volatility=None, open_interest=None, market_status='closed', name='AMERICAN ASSETS TRUST, INC.', fair_market_value=None, error=None, message=None)\n",
      "UniversalSnapshot(ticker='AATC', type='stocks', session=UniversalSnapshotSession(price=7.98, change=0, change_percent=0, early_trading_change=0, early_trading_change_percent=0, regular_trading_change=0, regular_trading_change_percent=0, late_trading_change=None, late_trading_change_percent=None, open=7.91, close=7.98, high=7.98, low=7.8, previous_close=7.98, volume=2886), last_quote=None, last_trade=None, greeks=None, underlying_asset=None, details=None, break_even_price=None, implied_volatility=None, open_interest=None, market_status='closed', name='AUTOSCOPE TECHS CORP', fair_market_value=None, error=None, message=None)\n",
      "UniversalSnapshot(ticker='AATGF', type='stocks', session=UniversalSnapshotSession(price=0.045, change=0, change_percent=0, early_trading_change=0, early_trading_change_percent=0, regular_trading_change=0, regular_trading_change_percent=0, late_trading_change=None, late_trading_change_percent=None, open=0.045, close=0.045, high=0.045, low=0.045, previous_close=0.045, volume=5500), last_quote=None, last_trade=None, greeks=None, underlying_asset=None, details=None, break_even_price=None, implied_volatility=None, open_interest=None, market_status='closed', name='ATI AIRTEST TECHS INC', fair_market_value=None, error=None, message=None)\n",
      "UniversalSnapshot(ticker='AATRL', type='stocks', session=UniversalSnapshotSession(price=53.2, change=0.673, change_percent=1.281, early_trading_change=0, early_trading_change_percent=0, regular_trading_change=0, regular_trading_change_percent=0, late_trading_change=None, late_trading_change_percent=None, open=52.5274, close=52.5274, high=52.5274, low=52.5274, previous_close=52.5274, volume=25000), last_quote=None, last_trade=None, greeks=None, underlying_asset=None, details=None, break_even_price=None, implied_volatility=None, open_interest=None, market_status='closed', name='AMG CAP TR II 5.15% CONV', fair_market_value=None, error=None, message=None)\n",
      "UniversalSnapshot(ticker='AATV', type='stocks', session=UniversalSnapshotSession(price=0.185, change=0, change_percent=0, early_trading_change=0, early_trading_change_percent=0, regular_trading_change=0, regular_trading_change_percent=0, late_trading_change=None, late_trading_change_percent=None, open=0.19025, close=0.185, high=0.19025, low=0.185, previous_close=0.185, volume=14400), last_quote=None, last_trade=None, greeks=None, underlying_asset=None, details=None, break_even_price=None, implied_volatility=None, open_interest=None, market_status='closed', name='ADAPTIVE AD SYSTEMS INC', fair_market_value=None, error=None, message=None)\n",
      "UniversalSnapshot(ticker='AAUAF', type='stocks', session=UniversalSnapshotSession(price=0.068302, change=-0.0299, change_percent=-30.4, early_trading_change=0, early_trading_change_percent=0, regular_trading_change=0, regular_trading_change_percent=0, late_trading_change=None, late_trading_change_percent=None, open=0.0651, close=0.0982, high=0.0982, low=0.0651, previous_close=0.0982, volume=43920), last_quote=None, last_trade=None, greeks=None, underlying_asset=None, details=None, break_even_price=None, implied_volatility=None, open_interest=None, market_status='closed', name='ALMADEN MINERALS LTD', fair_market_value=None, error=None, message=None)\n",
      "UniversalSnapshot(ticker='AAUCF', type='stocks', session=UniversalSnapshotSession(price=3.256802, change=0.0468, change_percent=1.458, early_trading_change=0, early_trading_change_percent=0, regular_trading_change=0, regular_trading_change_percent=0, late_trading_change=None, late_trading_change_percent=None, open=3.24, close=3.21, high=3.25, low=3.16, previous_close=3.21, volume=252562), last_quote=None, last_trade=None, greeks=None, underlying_asset=None, details=None, break_even_price=None, implied_volatility=None, open_interest=None, market_status='closed', name='ALLIED GOLD CORP', fair_market_value=None, error=None, message=None)\n",
      "UniversalSnapshot(ticker='AAUGF', type='stocks', session=UniversalSnapshotSession(price=0.023, change=0, change_percent=0, early_trading_change=0, early_trading_change_percent=0, regular_trading_change=0, regular_trading_change_percent=0, late_trading_change=None, late_trading_change_percent=None, open=0.023, close=0.023, high=0.023, low=0.023, previous_close=0.023, volume=25150), last_quote=None, last_trade=None, greeks=None, underlying_asset=None, details=None, break_even_price=None, implied_volatility=None, open_interest=None, market_status='closed', name='AERO ENERGY LTD', fair_market_value=None, error=None, message=None)\n",
      "UniversalSnapshot(ticker='AAUKF', type='stocks', session=UniversalSnapshotSession(price=29.670493, change=1.07, change_percent=3.741, early_trading_change=0, early_trading_change_percent=0, regular_trading_change=0, regular_trading_change_percent=0, late_trading_change=None, late_trading_change_percent=None, open=28.6, close=28.6, high=28.6, low=28.6, previous_close=28.6, volume=1947), last_quote=None, last_trade=None, greeks=None, underlying_asset=None, details=None, break_even_price=None, implied_volatility=None, open_interest=None, market_status='closed', name='ANGLO AMER PLC ORD.', fair_market_value=None, error=None, message=None)\n",
      "UniversalSnapshot(ticker='AAVM', type='stocks', session=UniversalSnapshotSession(price=25.05, change=0, change_percent=0, early_trading_change=0, early_trading_change_percent=0, regular_trading_change=0, regular_trading_change_percent=0, late_trading_change=None, late_trading_change_percent=None, open=25, close=25.05, high=25.05, low=24.83, previous_close=25.05, volume=19257), last_quote=None, last_trade=None, greeks=None, underlying_asset=None, details=None, break_even_price=None, implied_volatility=None, open_interest=None, market_status='closed', name='EA Series Trust Alpha Architect Global Factor Equity ETF', fair_market_value=None, error=None, message=None)\n",
      "UniversalSnapshot(ticker='AAVMY', type='stocks', session=UniversalSnapshotSession(price=18.86, change=0, change_percent=0, early_trading_change=0, early_trading_change_percent=0, regular_trading_change=0, regular_trading_change_percent=0, late_trading_change=None, late_trading_change_percent=None, open=18.75, close=18.86, high=18.91, low=18.55, previous_close=18.86, volume=9519), last_quote=None, last_trade=None, greeks=None, underlying_asset=None, details=None, break_even_price=None, implied_volatility=None, open_interest=None, market_status='closed', name='ABN AMR BK N V UNSP/ADR', fair_market_value=None, error=None, message=None)\n",
      "UniversalSnapshot(ticker='AAVVF', type='stocks', session=UniversalSnapshotSession(price=6.977629, change=-0.0124, change_percent=-0.177, early_trading_change=0, early_trading_change_percent=0, regular_trading_change=0, regular_trading_change_percent=0, late_trading_change=None, late_trading_change_percent=None, open=6.96, close=6.99, high=7.04, low=6.84, previous_close=6.99, volume=116719), last_quote=None, last_trade=None, greeks=None, underlying_asset=None, details=None, break_even_price=None, implied_volatility=None, open_interest=None, market_status='closed', name='ADVANTAGE ENERGY LTD', fair_market_value=None, error=None, message=None)\n",
      "UniversalSnapshot(ticker='AAVXF', type='stocks', session=UniversalSnapshotSession(price=5.89, change=0, change_percent=0, early_trading_change=0, early_trading_change_percent=0, regular_trading_change=0, regular_trading_change_percent=0, late_trading_change=None, late_trading_change_percent=None, open=5.89, close=5.89, high=5.89, low=5.89, previous_close=5.89, volume=300), last_quote=None, last_trade=None, greeks=None, underlying_asset=None, details=None, break_even_price=None, implied_volatility=None, open_interest=None, market_status='closed', name='ABIVAX SA ORD', fair_market_value=None, error=None, message=None)\n",
      "UniversalSnapshot(ticker='AAWH', type='stocks', session=UniversalSnapshotSession(price=0.3872, change=0, change_percent=0, early_trading_change=0, early_trading_change_percent=0, regular_trading_change=0, regular_trading_change_percent=0, late_trading_change=None, late_trading_change_percent=None, open=0.371, close=0.3872, high=0.395, low=0.366, previous_close=0.3872, volume=78788), last_quote=None, last_trade=None, greeks=None, underlying_asset=None, details=None, break_even_price=None, implied_volatility=None, open_interest=None, market_status='closed', name='ASCEND WELLNESS HOLDNGS A', fair_market_value=None, error=None, message=None)\n",
      "UniversalSnapshot(ticker='AAXJ', type='stocks', session=UniversalSnapshotSession(price=73.67, change=0, change_percent=0, early_trading_change=0, early_trading_change_percent=0, regular_trading_change=0, regular_trading_change_percent=0, late_trading_change=None, late_trading_change_percent=None, open=73.33, close=73.67, high=73.695, low=72.97, previous_close=73.67, volume=524483), last_quote=None, last_trade=None, greeks=None, underlying_asset=None, details=None, break_even_price=None, implied_volatility=None, open_interest=None, market_status='closed', name='iShares MSCI All Country Asia ex Japan ETF', fair_market_value=None, error=None, message=None)\n",
      "UniversalSnapshot(ticker='AAXN', type='stocks', session=UniversalSnapshotSession(price=None, change=None, change_percent=None, early_trading_change=0, early_trading_change_percent=0, regular_trading_change=None, regular_trading_change_percent=None, late_trading_change=None, late_trading_change_percent=None, open=None, close=None, high=None, low=None, previous_close=174.54, volume=None), last_quote=None, last_trade=None, greeks=None, underlying_asset=None, details=None, break_even_price=None, implied_volatility=None, open_interest=None, market_status='closed', name='Axon Enterprise, Inc. Common Stock', fair_market_value=None, error=None, message=None)\n",
      "UniversalSnapshot(ticker='AAXT', type='stocks', session=UniversalSnapshotSession(price=0.004, change=0.0039, change_percent=3900, early_trading_change=0, early_trading_change_percent=0, regular_trading_change=None, regular_trading_change_percent=None, late_trading_change=None, late_trading_change_percent=None, open=None, close=None, high=None, low=None, previous_close=0.0001, volume=None), last_quote=None, last_trade=None, greeks=None, underlying_asset=None, details=None, break_even_price=None, implied_volatility=None, open_interest=None, market_status='closed', name='AAMAXAN TRANSPORT GRP INC', fair_market_value=None, error=None, message=None)\n",
      "UniversalSnapshot(ticker='AAYYY', type='stocks', session=UniversalSnapshotSession(price=9.45, change=0, change_percent=0, early_trading_change=0, early_trading_change_percent=0, regular_trading_change=0, regular_trading_change_percent=0, late_trading_change=None, late_trading_change_percent=None, open=9.45, close=9.45, high=9.45, low=9.45, previous_close=9.45, volume=370), last_quote=None, last_trade=None, greeks=None, underlying_asset=None, details=None, break_even_price=None, implied_volatility=None, open_interest=None, market_status='closed', name='AUSTRALIAN AGRCL UNSP/ADR', fair_market_value=None, error=None, message=None)\n",
      "UniversalSnapshot(ticker='AB', type='stocks', session=UniversalSnapshotSession(price=37.74, change=0.08, change_percent=0.212, early_trading_change=0, early_trading_change_percent=0, regular_trading_change=0, regular_trading_change_percent=0, late_trading_change=None, late_trading_change_percent=None, open=37.27, close=37.66, high=37.99, low=37.27, previous_close=37.66, volume=627024), last_quote=None, last_trade=None, greeks=None, underlying_asset=None, details=None, break_even_price=None, implied_volatility=None, open_interest=None, market_status='closed', name='AllianceBernstein Holding, L.P.', fair_market_value=None, error=None, message=None)\n",
      "UniversalSnapshot(ticker='ABAKF', type='stocks', session=UniversalSnapshotSession(price=2.05, change=0.0499, change_percent=2.495, early_trading_change=0, early_trading_change_percent=0, regular_trading_change=0, regular_trading_change_percent=0, late_trading_change=None, late_trading_change_percent=None, open=2.000107, close=2.000107, high=2.000107, low=2.000107, previous_close=2.000107, volume=418), last_quote=None, last_trade=None, greeks=None, underlying_asset=None, details=None, break_even_price=None, implied_volatility=None, open_interest=None, market_status='closed', name='ABRDN ASIA-PAC INCOME FD', fair_market_value=None, error=None, message=None)\n",
      "UniversalSnapshot(ticker='ABANF', type='stocks', session=UniversalSnapshotSession(price=8.48, change=0, change_percent=0, early_trading_change=0, early_trading_change_percent=0, regular_trading_change=0, regular_trading_change_percent=0, late_trading_change=None, late_trading_change_percent=None, open=8.48, close=8.48, high=8.48, low=8.48, previous_close=8.48, volume=239), last_quote=None, last_trade=None, greeks=None, underlying_asset=None, details=None, break_even_price=None, implied_volatility=None, open_interest=None, market_status='closed', name='AUTOMATIC BANK SERVICES', fair_market_value=None, error=None, message=None)\n",
      "UniversalSnapshot(ticker='ABASF', type='stocks', session=UniversalSnapshotSession(price=8.4312, change=None, change_percent=None, early_trading_change=None, early_trading_change_percent=None, regular_trading_change=None, regular_trading_change_percent=None, late_trading_change=None, late_trading_change_percent=None, open=None, close=None, high=None, low=None, previous_close=None, volume=None), last_quote=None, last_trade=None, greeks=None, underlying_asset=None, details=None, break_even_price=None, implied_volatility=None, open_interest=None, market_status='closed', name='ALBA SE', fair_market_value=None, error=None, message=None)\n",
      "UniversalSnapshot(ticker='ABAT', type='stocks', session=UniversalSnapshotSession(price=0.975, change=-0.025, change_percent=-2.5, early_trading_change=0, early_trading_change_percent=0, regular_trading_change=0, regular_trading_change_percent=0, late_trading_change=None, late_trading_change_percent=None, open=0.98, close=1, high=1.01, low=0.95, previous_close=1, volume=538222), last_quote=None, last_trade=None, greeks=None, underlying_asset=None, details=None, break_even_price=None, implied_volatility=None, open_interest=None, market_status='closed', name='American Battery Technology Company Common Stock', fair_market_value=None, error=None, message=None)\n",
      "count: 0\n"
     ]
    }
   ],
   "source": [
    "def print_snapshots(iterator: Union[Iterator[UniversalSnapshot], HTTPResponse]):\n",
    "    snapshots = [s for s in iterator]\n",
    "\n",
    "    print(f\"count: {len(snapshots)}\")\n",
    "\n",
    "    for item in snapshots:\n",
    "        print(item)\n",
    "\n",
    "\n",
    "# it = client.list_universal_snapshots() # all tickers for all assets types in lexicographical order\n",
    "\n",
    "it = client.list_universal_snapshots(\n",
    "    ticker_any_of=[\n",
    "        \"AAPL\",\n",
    "        \"O:AAPL230519C00055000\",\n",
    "        \"DOES_NOT_EXIST\",\n",
    "        \"X:1INCHUSD\",\n",
    "        \"C:AEDAUD\",\n",
    "    ]\n",
    ")\n",
    "print_snapshots(it)\n",
    "\n",
    "it = client.list_universal_snapshots(type=\"stocks\", ticker_gt=\"A\", ticker_lt=\"AAPL\")\n",
    "print_snapshots(it)\n",
    "\n",
    "it = client.list_universal_snapshots(type=\"stocks\", ticker_gte=\"AAPL\", ticker_lte=\"ABB\")\n",
    "print_snapshots(it)\n",
    "\n",
    "it = client.list_universal_snapshots(\n",
    "    type=\"options\",\n",
    "    ticker_gte=\"O:AAPL230804C00050000\",\n",
    "    ticker_lte=\"O:AAPL230804C00070000\",\n",
    ")\n",
    "print_snapshots(it)\n"
   ]
  },
  {
   "cell_type": "markdown",
   "metadata": {},
   "source": [
    "# Technicals"
   ]
  },
  {
   "cell_type": "code",
   "execution_count": 28,
   "metadata": {},
   "outputs": [
    {
     "name": "stdout",
     "output_type": "stream",
     "text": [
      "SingleIndicatorResults(values=[IndicatorValue(timestamp=1740718800000, value=238.35625792729115), IndicatorValue(timestamp=1740632400000, value=238.21406437330305), IndicatorValue(timestamp=1740546000000, value=238.25137312323378), IndicatorValue(timestamp=1740459600000, value=238.16530672010043), IndicatorValue(timestamp=1740373200000, value=237.80307434132902), IndicatorValue(timestamp=1740114000000, value=237.42360798791387), IndicatorValue(timestamp=1740027600000, value=237.0919185180328), IndicatorValue(timestamp=1739941200000, value=236.73526213101374), IndicatorValue(timestamp=1739854800000, value=236.40323201391226), IndicatorValue(timestamp=1739509200000, value=236.0739761777454)], underlying=IndicatorUnderlying(url='https://api.polygon.io/v2/aggs/ticker/AAPL/range/1/day/1063281600000/1740863904481?limit=235&sort=desc', aggregates=[]))\n"
     ]
    }
   ],
   "source": [
    "ema = client.get_ema(\n",
    "    ticker=\"AAPL\",\n",
    "    timespan=\"day\",\n",
    "    window=50,\n",
    "    series_type=\"close\",\n",
    ")\n",
    "\n",
    "print(ema)\n"
   ]
  },
  {
   "cell_type": "code",
   "execution_count": 29,
   "metadata": {},
   "outputs": [
    {
     "name": "stdout",
     "output_type": "stream",
     "text": [
      "MACDIndicatorResults(values=[MACDIndicatorValue(timestamp=1740718800000, value=1.8692999935532555, signal=1.6253577166758362, histogram=0.24394227687741932), MACDIndicatorValue(timestamp=1740632400000, value=1.9638674777056906, signal=1.5643721474564811, histogram=0.39949533024920947), MACDIndicatorValue(timestamp=1740546000000, value=2.518259175984525, signal=1.4644983148941786, histogram=1.0537608610903466), MACDIndicatorValue(timestamp=1740459600000, value=2.8776717192279193, signal=1.2010580996215918, histogram=1.6766136196063275), MACDIndicatorValue(timestamp=1740373200000, value=2.6144103221425326, signal=0.7819046947200099, histogram=1.8325056274225227), MACDIndicatorValue(timestamp=1740114000000, value=2.234256170631454, signal=0.32377828786437934, histogram=1.9104778827670748), MACDIndicatorValue(timestamp=1740027600000, value=1.8743611456754365, signal=-0.15384118282738934, histogram=2.028202328502826), MACDIndicatorValue(timestamp=1739941200000, value=1.3592316971581226, signal=-0.6608917649530959, histogram=2.0201234621112185), MACDIndicatorValue(timestamp=1739854800000, value=0.7797140127282205, signal=-1.1659226304809005, histogram=1.945636643209121), MACDIndicatorValue(timestamp=1739509200000, value=0.06942469168893695, signal=-1.6523317912831808, histogram=1.7217564829721177)], underlying=IndicatorUnderlying(url='https://api.polygon.io/v2/aggs/ticker/AAPL/range/1/day/1063281600000/1740863911381?limit=129&sort=desc', aggregates=[]))\n"
     ]
    }
   ],
   "source": [
    "macd = client.get_macd(\n",
    "    ticker=\"AAPL\",\n",
    "    timespan=\"day\",\n",
    "    short_window=12,\n",
    "    long_window=26,\n",
    "    signal_window=9,\n",
    "    series_type=\"close\",\n",
    ")\n",
    "\n",
    "print(macd)\n"
   ]
  },
  {
   "cell_type": "code",
   "execution_count": 30,
   "metadata": {},
   "outputs": [
    {
     "name": "stdout",
     "output_type": "stream",
     "text": [
      "SingleIndicatorResults(values=[IndicatorValue(timestamp=1740718800000, value=53.406161749095816), IndicatorValue(timestamp=1740632400000, value=47.30604340610064), IndicatorValue(timestamp=1740546000000, value=51.52821374700387), IndicatorValue(timestamp=1740459600000, value=62.909959592677), IndicatorValue(timestamp=1740373200000, value=63.026070798008355), IndicatorValue(timestamp=1740114000000, value=61.3132466539461), IndicatorValue(timestamp=1740027600000, value=61.79342334708754), IndicatorValue(timestamp=1739941200000, value=60.81645843093893), IndicatorValue(timestamp=1739854800000, value=60.42492699113483), IndicatorValue(timestamp=1739509200000, value=60.607690449379284)], underlying=IndicatorUnderlying(url='https://api.polygon.io/v2/aggs/ticker/AAPL/range/1/day/1063281600000/1740863918344?limit=75&sort=desc', aggregates=[]))\n"
     ]
    }
   ],
   "source": [
    "rsi = client.get_rsi(\n",
    "    ticker=\"AAPL\",\n",
    "    timespan=\"day\",\n",
    "    window=14,\n",
    "    series_type=\"close\",\n",
    ")\n",
    "\n",
    "print(rsi)\n"
   ]
  },
  {
   "cell_type": "code",
   "execution_count": 31,
   "metadata": {},
   "outputs": [
    {
     "name": "stdout",
     "output_type": "stream",
     "text": [
      "SingleIndicatorResults(values=[IndicatorValue(timestamp=1740718800000, value=240.05420000000015), IndicatorValue(timestamp=1740632400000, value=240.23820000000018), IndicatorValue(timestamp=1740546000000, value=240.45480000000018), IndicatorValue(timestamp=1740459600000, value=240.60680000000013), IndicatorValue(timestamp=1740373200000, value=240.59580000000014), IndicatorValue(timestamp=1740114000000, value=240.60920000000013), IndicatorValue(timestamp=1740027600000, value=240.63320000000013), IndicatorValue(timestamp=1739941200000, value=240.57340000000013), IndicatorValue(timestamp=1739854800000, value=240.53680000000014), IndicatorValue(timestamp=1739509200000, value=240.50760000000017)], underlying=IndicatorUnderlying(url='https://api.polygon.io/v2/aggs/ticker/AAPL/range/1/day/1063281600000/1740863925203?limit=235&sort=desc', aggregates=[]))\n"
     ]
    }
   ],
   "source": [
    "sma = client.get_sma(\n",
    "    ticker=\"AAPL\",\n",
    "    timespan=\"day\",\n",
    "    window=50,\n",
    "    series_type=\"close\",\n",
    ")\n",
    "\n",
    "print(sma)\n"
   ]
  }
 ],
 "metadata": {
  "kernelspec": {
   "display_name": ".venv",
   "language": "python",
   "name": "python3"
  },
  "language_info": {
   "codemirror_mode": {
    "name": "ipython",
    "version": 3
   },
   "file_extension": ".py",
   "mimetype": "text/x-python",
   "name": "python",
   "nbconvert_exporter": "python",
   "pygments_lexer": "ipython3",
   "version": "3.12.9"
  }
 },
 "nbformat": 4,
 "nbformat_minor": 2
}

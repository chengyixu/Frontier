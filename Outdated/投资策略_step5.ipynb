{
 "cells": [
  {
   "metadata": {
    "ExecuteTime": {
     "end_time": "2024-10-26T07:54:59.759766Z",
     "start_time": "2024-10-26T07:54:59.153140Z"
    }
   },
   "cell_type": "code",
   "source": [
    "import yfinance as yf\n",
    "from datetime import datetime\n",
    "\n",
    "# Define the stock list\n",
    "stocklist_mag = ['NFLX', 'IDR', 'AEM', 'KGC', 'IAG', 'HMY', 'RCL', 'KMI', \n",
    "                 'PHM', 'ADSK', 'NVDA', 'RL', 'RGLD', 'DHI', 'ORLA', 'ORCL', \n",
    "                 'AUST', 'TMUS', 'FSM', 'NGD', 'EXPE', 'NEM', 'PLTR']\n",
    "\n",
    "# Dictionary to store 2024 Q4 earnings dates\n",
    "q4_2024_earnings_dates = {}\n",
    "\n",
    "# Retrieve 2024 Q4 earnings date for each stock\n",
    "for ticker_symbol in stocklist_mag:\n",
    "    try:\n",
    "        ticker = yf.Ticker(ticker_symbol)\n",
    "        earnings = ticker.earnings_dates\n",
    "        \n",
    "        # Filter for Q4 2024 earnings report (October, November, December of 2024)\n",
    "        q4_2024_earnings = earnings[(earnings.index.year == 2024) & (earnings.index.month >= 10)]\n",
    "        \n",
    "        # Store the Q4 2024 earnings date if available\n",
    "        if not q4_2024_earnings.empty:\n",
    "            q4_2024_earnings_dates[ticker_symbol] = q4_2024_earnings.index[0].strftime(\"%Y-%m-%d\")\n",
    "        else:\n",
    "            q4_2024_earnings_dates[ticker_symbol] = \"2024 Q4 earnings date not available\"\n",
    "    except Exception as e:\n",
    "        q4_2024_earnings_dates[ticker_symbol] = f\"Error retrieving data: {str(e)}\"\n",
    "\n",
    "print(q4_2024_earnings_dates)\n"
   ],
   "id": "f0a9013d559bdc09",
   "outputs": [
    {
     "name": "stdout",
     "output_type": "stream",
     "text": [
      "{'NFLX': '2024-10-17', 'IDR': '2024-11-04', 'AEM': '2024-10-30', 'KGC': '2024-11-05', 'IAG': '2024-11-07', 'HMY': '2024 Q4 earnings date not available', 'RCL': '2024-10-29', 'KMI': '2024-10-16', 'PHM': '2024-10-22', 'ADSK': '2024-11-19', 'NVDA': '2024-11-20', 'RL': '2024-11-07', 'RGLD': '2024-11-06', 'DHI': '2024-10-29', 'ORLA': '2024-11-12', 'ORCL': '2024-12-09', 'AUST': '2024 Q4 earnings date not available', 'TMUS': '2024-10-23', 'FSM': '2024-11-06', 'NGD': '2024-10-29', 'EXPE': '2024-11-07', 'NEM': '2024-10-23', 'PLTR': '2024-11-04'}\n"
     ]
    }
   ],
   "execution_count": 6
  },
  {
   "metadata": {
    "ExecuteTime": {
     "end_time": "2024-10-26T08:06:22.742583Z",
     "start_time": "2024-10-26T08:06:17.626261Z"
    }
   },
   "cell_type": "code",
   "source": [
    "import yfinance as yf\n",
    "\n",
    "def calculate_fractional_shares(initial_investment):\n",
    "    # Portfolio weights as provided\n",
    "    tickers_weights = {\n",
    "        'NFLX': 0.000, 'IDR': 0.000, 'AEM': 0.11975, 'KGC': 0.000, 'IAG': 0.000,\n",
    "        'HMY': 0.000, 'RCL': 0.19194, 'KMI': 0.14814, 'PHM': 0.05666, 'ADSK': 0.01085,\n",
    "        'NVDA': 0.20000, 'RL': 0.000, 'RGLD': 0.17476, 'DHI': 0.03748, 'ORLA': 0.000,\n",
    "        'ORCL': 0.000, 'AUST': 0.000, 'TMUS': 0.000, 'FSM': 0.000, 'NGD': 0.000,\n",
    "        'EXPE': 0.03218, 'NEM': 0.000, 'PLTR': 0.02824\n",
    "    }\n",
    "\n",
    "    shares_dict = {}\n",
    "    for ticker, weight in tickers_weights.items():\n",
    "        if weight > 0:  # Skip tickers with 0% weight\n",
    "            # Fetch the latest market price\n",
    "            stock = yf.Ticker(ticker)\n",
    "            latest_price = stock.history(period=\"1d\")['Close'].iloc[-1]\n",
    "\n",
    "            # Calculate dollar amount to invest in this stock\n",
    "            investment_amount = initial_investment * weight\n",
    "            # Calculate the exact number of shares\n",
    "            shares = investment_amount / latest_price\n",
    "            shares_dict[ticker] = shares\n",
    "\n",
    "            # Optional: Print the result for each ticker\n",
    "            print(f\"{ticker}: {shares:.4f} shares at ${latest_price:.2f} each, with ${investment_amount:.2f} allocated.\")\n",
    "\n",
    "    return shares_dict\n",
    "\n",
    "# Example usage:\n",
    "initial_investment = 365.91  # Replace with your investment amount\n",
    "fractional_shares_to_purchase = calculate_fractional_shares(initial_investment)\n",
    "print(fractional_shares_to_purchase)\n"
   ],
   "id": "87f2822622ddba36",
   "outputs": [
    {
     "name": "stdout",
     "output_type": "stream",
     "text": [
      "AEM: 0.5043 shares at $86.88 each, with $43.82 allocated.\n",
      "RCL: 0.3496 shares at $200.91 each, with $70.23 allocated.\n",
      "KMI: 2.1726 shares at $24.95 each, with $54.21 allocated.\n",
      "PHM: 0.1565 shares at $132.47 each, with $20.73 allocated.\n",
      "ADSK: 0.0139 shares at $286.04 each, with $3.97 allocated.\n",
      "NVDA: 0.5170 shares at $141.54 each, with $73.18 allocated.\n",
      "RGLD: 0.4253 shares at $150.34 each, with $63.95 allocated.\n",
      "DHI: 0.0765 shares at $179.24 each, with $13.71 allocated.\n",
      "EXPE: 0.0743 shares at $158.39 each, with $11.77 allocated.\n",
      "PLTR: 0.2303 shares at $44.86 each, with $10.33 allocated.\n",
      "{'AEM': 0.5043476506127095, 'RCL': 0.3495732622558583, 'KMI': 2.172581392483044, 'PHM': 0.15650683482261357, 'ADSK': 0.013879609080547564, 'NVDA': 0.5170411436438149, 'RGLD': 0.425345438058145, 'DHI': 0.07651364862585347, 'EXPE': 0.07434171251578119, 'PLTR': 0.23034548059314036}\n"
     ]
    }
   ],
   "execution_count": 8
  }
 ],
 "metadata": {
  "kernelspec": {
   "display_name": "Python 3",
   "language": "python",
   "name": "python3"
  },
  "language_info": {
   "codemirror_mode": {
    "name": "ipython",
    "version": 2
   },
   "file_extension": ".py",
   "mimetype": "text/x-python",
   "name": "python",
   "nbconvert_exporter": "python",
   "pygments_lexer": "ipython2",
   "version": "2.7.6"
  }
 },
 "nbformat": 4,
 "nbformat_minor": 5
}
